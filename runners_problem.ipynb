{
  "nbformat": 4,
  "nbformat_minor": 0,
  "metadata": {
    "colab": {
      "provenance": [],
      "authorship_tag": "ABX9TyMJo3qYtnXanYwHsDylLsRn",
      "include_colab_link": true
    },
    "kernelspec": {
      "name": "python3",
      "display_name": "Python 3"
    },
    "language_info": {
      "name": "python"
    }
  },
  "cells": [
    {
      "cell_type": "markdown",
      "metadata": {
        "id": "view-in-github",
        "colab_type": "text"
      },
      "source": [
        "<a href=\"https://colab.research.google.com/github/armenbod/battersea_park/blob/main/runners_problem.ipynb\" target=\"_parent\"><img src=\"https://colab.research.google.com/assets/colab-badge.svg\" alt=\"Open In Colab\"/></a>"
      ]
    },
    {
      "cell_type": "markdown",
      "source": [
        "# Battersea Park Runners Problem\n",
        "\n",
        "Code to accompany results found in Medium article. <br>\n",
        "Link:\n",
        "<br><br>\n",
        "\n",
        "**Sections**\n",
        "\n",
        "\n",
        "\n",
        "*   Define parameters & functions\n",
        "*   Calculation\n",
        "*   Simulation\n",
        "*   Plots\n",
        "\n"
      ],
      "metadata": {
        "id": "-3xgQ7wQhiRv"
      }
    },
    {
      "cell_type": "code",
      "execution_count": 1,
      "metadata": {
        "id": "B8AWpZQYNg5u"
      },
      "outputs": [],
      "source": [
        "import math\n",
        "import plotly.express as px\n",
        "import numpy as np\n",
        "import pandas as pd\n",
        "from scipy import integrate\n",
        "from typing import Union\n"
      ]
    },
    {
      "cell_type": "markdown",
      "source": [
        "## Define Parameters"
      ],
      "metadata": {
        "id": "gS-Gw_WAjkQc"
      }
    },
    {
      "cell_type": "code",
      "source": [
        "\n",
        "# L: Circuit distance (m)\n",
        "L = 3000\n",
        "\n",
        "# N: number of runners (in both directions)\n",
        "N = 100\n",
        "\n",
        "# MY_SPEED, alpha: My speed (m/s) and corresponding time taken to run circuit\n",
        "MY_SPEED = 3.7\n",
        "alpha = L/MY_SPEED\n",
        "\n",
        "# MU: Average speed of a runner (men/woman), taken from https://caloriesburnedhq.com/average-running-speed/, converted to m/s\n",
        "MU = 2.77165\n",
        "\n",
        "# SIGMA: Standard deviation, m/s (sensible estimate)\n",
        "SIGMA = 0.536\n",
        "\n",
        "# n_steps : number of timesteps (for plotting purposes only)\n",
        "n_steps = 11\n"
      ],
      "metadata": {
        "id": "Pg4c4QzGNkHV"
      },
      "execution_count": 2,
      "outputs": []
    },
    {
      "cell_type": "markdown",
      "source": [
        "## Define Functions"
      ],
      "metadata": {
        "id": "-JJ7OY6QnWNt"
      }
    },
    {
      "cell_type": "code",
      "source": [
        "def uniform(l : float):\n",
        "  # Returns a uniform distribution between 0 - l\n",
        "\n",
        "  return np.random.uniform(0, l)\n",
        "\n",
        "def nd(mu : float, sigma : float):\n",
        "  # Returns a normal distribution with parameters mu and sigma\n",
        "\n",
        "  return np.random.normal(mu, sigma)"
      ],
      "metadata": {
        "id": "EK_LWeGGOE-m"
      },
      "execution_count": 3,
      "outputs": []
    },
    {
      "cell_type": "markdown",
      "source": [
        "## Calculations"
      ],
      "metadata": {
        "id": "EHh_sPPUq-wp"
      }
    },
    {
      "cell_type": "markdown",
      "source": [
        "### Integrating joint pdf"
      ],
      "metadata": {
        "id": "PuLTsnn2rNNo"
      }
    },
    {
      "cell_type": "code",
      "source": [
        "# Define the joint PDF function\n",
        "def joint_pdf(x: float,\n",
        "              y: float,\n",
        "              mu: float,\n",
        "              sigma: float,\n",
        "              b: Union[int, float],\n",
        "              a: Union[int, float] = 0) -> float:\n",
        "\n",
        "    uniform_pdf = 1 / (b - a)\n",
        "    normal_pdf = 1 / (sigma * (2 * np.pi) ** 0.5) * \\\n",
        "                 np.exp(-((y - mu) ** 2) / (2 * sigma ** 2))\n",
        "    return uniform_pdf * normal_pdf\n",
        "\n",
        "\n",
        "# Define the function to be integrated\n",
        "def integrand(y, x):\n",
        "    return joint_pdf(x, y, MU, SIGMA, L, 0)\n"
      ],
      "metadata": {
        "id": "pNpkaA8xPbzJ"
      },
      "execution_count": 4,
      "outputs": []
    },
    {
      "cell_type": "code",
      "source": [
        "\n",
        "# Perform the double integration using the scipy integrate function\n",
        "result, error = integrate.dblquad(integrand, 0, L, lambda x: -float('inf'), lambda x: (L - x)/alpha )\n",
        "\n",
        "# Print the result\n",
        "print(\"Probability that will pass runner:\", result)\n",
        "print(f'Expected passes = {round((N/2)*result, 2)} people')\n",
        "\n",
        "# consider people going the other way\n",
        "rate = (1/result)\n",
        "\n",
        "print(f'Expect to pass {round(rate, 1)}x more people going the other way')"
      ],
      "metadata": {
        "colab": {
          "base_uri": "https://localhost:8080/"
        },
        "id": "cmvMzJtIszB-",
        "outputId": "3d03526c-5ecf-4c04-a687-fa8c09bbc619"
      },
      "execution_count": 5,
      "outputs": [
        {
          "output_type": "stream",
          "name": "stdout",
          "text": [
            "Probability that will pass runner: 0.2533549424978117\n",
            "Expected passes = 12.67 people\n",
            "Expect to pass 3.9x more people going the other way\n"
          ]
        }
      ]
    },
    {
      "cell_type": "markdown",
      "source": [
        "### Running Simulation"
      ],
      "metadata": {
        "id": "sk964HyItAkZ"
      }
    },
    {
      "cell_type": "code",
      "source": [
        "# Simulation function\n",
        "\n",
        "def running_simulator(mu, sigma, l, my_speed, n, s, nlaps, decay=1) -> list:\n",
        "\n",
        "\n",
        "  overtake_set = []\n",
        "  overtaken_set = []\n",
        "\n",
        "  # Start each simulation\n",
        "  for j in range(s):\n",
        "    overtake = 0\n",
        "    overtaken = 0\n",
        "\n",
        "    # Loop each runner\n",
        "    for i in range(n):\n",
        "      speed = nd(mu, sigma)\n",
        "      dis = uniform(l)\n",
        "      alpha = l/my_speed\n",
        "\n",
        "      # Loop each lap\n",
        "      for lap in range(1, nlaps + 1):\n",
        "        dis += alpha * speed\n",
        "        if dis < l:\n",
        "          overtake += 1\n",
        "        if dis >= l:\n",
        "          dis = dis - l\n",
        "          if dis > l:\n",
        "            overtaken += 1\n",
        "\n",
        "        # decay speed vs nlaps\n",
        "        speed = speed * decay\n",
        "        alpha = alpha / decay\n",
        "\n",
        "    overtake_set.append(overtake)\n",
        "    overtaken_set.append(overtaken)\n",
        "\n",
        "  return overtake_set, overtaken_set\n"
      ],
      "metadata": {
        "id": "AZARrHxnWt5c"
      },
      "execution_count": 6,
      "outputs": []
    },
    {
      "cell_type": "code",
      "source": [
        "# Run simulation\n",
        "\n",
        "s = 5000\n",
        "nlaps = 1\n",
        "\n",
        "\n",
        "overtake_set, overtaken_set = running_simulator(MU, SIGMA, L, MY_SPEED, int(N/2), s, nlaps)\n",
        "\n",
        "print(f'Simulation: expected passes = {round(np.mean(overtake_set), 2)} people')\n",
        "print(f'Simulation: expected people overtaking me = {round(np.mean(overtaken_set), 2)} people')"
      ],
      "metadata": {
        "colab": {
          "base_uri": "https://localhost:8080/"
        },
        "id": "LXIlE5BtX9xt",
        "outputId": "6f9e243e-3325-48ea-a99c-3ca90292de48"
      },
      "execution_count": 7,
      "outputs": [
        {
          "output_type": "stream",
          "name": "stdout",
          "text": [
            "Simulation: expected passes = 12.71 people\n",
            "Simulation: expected people overtaking me = 0.13 people\n"
          ]
        }
      ]
    },
    {
      "cell_type": "markdown",
      "source": [
        "## Plots"
      ],
      "metadata": {
        "id": "IcokFw19puCi"
      }
    },
    {
      "cell_type": "markdown",
      "source": [
        "### Single lap arrow plot"
      ],
      "metadata": {
        "id": "XsVOvqUlpwU4"
      }
    },
    {
      "cell_type": "code",
      "source": [
        "def arrow_annotate(xs : str,\n",
        "                   xe : str,\n",
        "                   ys : str,\n",
        "                   ye : str,\n",
        "                   color='red',\n",
        "                   arrowwidth=0.5):\n",
        "\n",
        "   return fig.add_annotation(ax = xs,\n",
        "                      axref = 'x',\n",
        "                      ay = ys,\n",
        "                      ayref = 'y',\n",
        "                      x = xe,\n",
        "                      arrowcolor=color,\n",
        "                      xref = 'x',\n",
        "                      y = ye,\n",
        "                      yref='y',\n",
        "                      arrowwidth=arrowwidth,\n",
        "                      arrowside='end',\n",
        "                      arrowsize=2,\n",
        "                      arrowhead = 1)"
      ],
      "metadata": {
        "id": "pWLcetW5p66P"
      },
      "execution_count": 8,
      "outputs": []
    },
    {
      "cell_type": "code",
      "source": [
        "# Generate dataframes for one lap\n",
        "\n",
        "runners = []\n",
        "\n",
        "# for each runner assign a starting position and velocity\n",
        "for i in range(int(N/2)):\n",
        "  runners.append((uniform(L), nd(MU, SIGMA)))\n",
        "\n",
        "\n",
        "# Create\n",
        "runners_df = pd.DataFrame(data={'n' : range(int(N/2)),\n",
        "                                'd0' : [x[0] for x in runners],\n",
        "                                'd1' : [x[0] + alpha*x[1] for x in runners]})\n",
        "\n",
        "my_df = pd.DataFrame(data={'n' : [int(N/2)+1], 'd0' : [0], 'd1' : [L]})"
      ],
      "metadata": {
        "id": "fkxHxHmvPB6W"
      },
      "execution_count": 9,
      "outputs": []
    },
    {
      "cell_type": "code",
      "source": [
        "\n",
        "fig = px.scatter(runners_df, x='n', y='n')\n",
        "fig = px.scatter(my_df, x='n', y='n')\n",
        "\n",
        "\n",
        "# Generate arrows\n",
        "for index, row in runners_df.iterrows():\n",
        "\n",
        "    # Arrows for runners not overtaken\n",
        "    if row['d1'] > L:\n",
        "      arrow_annotate(row['d0'], row['d1'], row['n'], row['n'], color='black')\n",
        "\n",
        "    # Arrows for runners overtaken\n",
        "    else:\n",
        "      arrow_annotate(row['d0'], row['d1'], row['n'], row['n'], color='red')\n",
        "\n",
        "# My arrow\n",
        "for index, row in my_df.iterrows():\n",
        "  arrow_annotate(row['d0'], row['d1'], row['n'], row['n'], color='green', arrowwidth=1)\n",
        "\n",
        "fig.update_traces(marker=dict(size=12, opacity=0))\n",
        "fig.update_layout(title='Distance travelled in one lap for each n, Red: Overtaken by Me (Green)', showlegend=False)\n",
        "\n",
        "fig.show()\n",
        "\n"
      ],
      "metadata": {
        "colab": {
          "base_uri": "https://localhost:8080/",
          "height": 542
        },
        "id": "7SMb-RzpPCWH",
        "outputId": "52b307c1-83fc-4133-ce75-cb5cdc2a3437"
      },
      "execution_count": 10,
      "outputs": [
        {
          "output_type": "display_data",
          "data": {
            "text/html": [
              "<html>\n",
              "<head><meta charset=\"utf-8\" /></head>\n",
              "<body>\n",
              "    <div>            <script src=\"https://cdnjs.cloudflare.com/ajax/libs/mathjax/2.7.5/MathJax.js?config=TeX-AMS-MML_SVG\"></script><script type=\"text/javascript\">if (window.MathJax && window.MathJax.Hub && window.MathJax.Hub.Config) {window.MathJax.Hub.Config({SVG: {font: \"STIX-Web\"}});}</script>                <script type=\"text/javascript\">window.PlotlyConfig = {MathJaxConfig: 'local'};</script>\n",
              "        <script charset=\"utf-8\" src=\"https://cdn.plot.ly/plotly-2.24.1.min.js\"></script>                <div id=\"bc7a41ac-98a5-4f46-9677-7671357b084c\" class=\"plotly-graph-div\" style=\"height:525px; width:100%;\"></div>            <script type=\"text/javascript\">                                    window.PLOTLYENV=window.PLOTLYENV || {};                                    if (document.getElementById(\"bc7a41ac-98a5-4f46-9677-7671357b084c\")) {                    Plotly.newPlot(                        \"bc7a41ac-98a5-4f46-9677-7671357b084c\",                        [{\"hovertemplate\":\"n=%{y}\\u003cextra\\u003e\\u003c\\u002fextra\\u003e\",\"legendgroup\":\"\",\"marker\":{\"color\":\"#636efa\",\"symbol\":\"circle\",\"opacity\":0,\"size\":12},\"mode\":\"markers\",\"name\":\"\",\"orientation\":\"v\",\"showlegend\":false,\"x\":[51],\"xaxis\":\"x\",\"y\":[51],\"yaxis\":\"y\",\"type\":\"scatter\"}],                        {\"template\":{\"data\":{\"histogram2dcontour\":[{\"type\":\"histogram2dcontour\",\"colorbar\":{\"outlinewidth\":0,\"ticks\":\"\"},\"colorscale\":[[0.0,\"#0d0887\"],[0.1111111111111111,\"#46039f\"],[0.2222222222222222,\"#7201a8\"],[0.3333333333333333,\"#9c179e\"],[0.4444444444444444,\"#bd3786\"],[0.5555555555555556,\"#d8576b\"],[0.6666666666666666,\"#ed7953\"],[0.7777777777777778,\"#fb9f3a\"],[0.8888888888888888,\"#fdca26\"],[1.0,\"#f0f921\"]]}],\"choropleth\":[{\"type\":\"choropleth\",\"colorbar\":{\"outlinewidth\":0,\"ticks\":\"\"}}],\"histogram2d\":[{\"type\":\"histogram2d\",\"colorbar\":{\"outlinewidth\":0,\"ticks\":\"\"},\"colorscale\":[[0.0,\"#0d0887\"],[0.1111111111111111,\"#46039f\"],[0.2222222222222222,\"#7201a8\"],[0.3333333333333333,\"#9c179e\"],[0.4444444444444444,\"#bd3786\"],[0.5555555555555556,\"#d8576b\"],[0.6666666666666666,\"#ed7953\"],[0.7777777777777778,\"#fb9f3a\"],[0.8888888888888888,\"#fdca26\"],[1.0,\"#f0f921\"]]}],\"heatmap\":[{\"type\":\"heatmap\",\"colorbar\":{\"outlinewidth\":0,\"ticks\":\"\"},\"colorscale\":[[0.0,\"#0d0887\"],[0.1111111111111111,\"#46039f\"],[0.2222222222222222,\"#7201a8\"],[0.3333333333333333,\"#9c179e\"],[0.4444444444444444,\"#bd3786\"],[0.5555555555555556,\"#d8576b\"],[0.6666666666666666,\"#ed7953\"],[0.7777777777777778,\"#fb9f3a\"],[0.8888888888888888,\"#fdca26\"],[1.0,\"#f0f921\"]]}],\"heatmapgl\":[{\"type\":\"heatmapgl\",\"colorbar\":{\"outlinewidth\":0,\"ticks\":\"\"},\"colorscale\":[[0.0,\"#0d0887\"],[0.1111111111111111,\"#46039f\"],[0.2222222222222222,\"#7201a8\"],[0.3333333333333333,\"#9c179e\"],[0.4444444444444444,\"#bd3786\"],[0.5555555555555556,\"#d8576b\"],[0.6666666666666666,\"#ed7953\"],[0.7777777777777778,\"#fb9f3a\"],[0.8888888888888888,\"#fdca26\"],[1.0,\"#f0f921\"]]}],\"contourcarpet\":[{\"type\":\"contourcarpet\",\"colorbar\":{\"outlinewidth\":0,\"ticks\":\"\"}}],\"contour\":[{\"type\":\"contour\",\"colorbar\":{\"outlinewidth\":0,\"ticks\":\"\"},\"colorscale\":[[0.0,\"#0d0887\"],[0.1111111111111111,\"#46039f\"],[0.2222222222222222,\"#7201a8\"],[0.3333333333333333,\"#9c179e\"],[0.4444444444444444,\"#bd3786\"],[0.5555555555555556,\"#d8576b\"],[0.6666666666666666,\"#ed7953\"],[0.7777777777777778,\"#fb9f3a\"],[0.8888888888888888,\"#fdca26\"],[1.0,\"#f0f921\"]]}],\"surface\":[{\"type\":\"surface\",\"colorbar\":{\"outlinewidth\":0,\"ticks\":\"\"},\"colorscale\":[[0.0,\"#0d0887\"],[0.1111111111111111,\"#46039f\"],[0.2222222222222222,\"#7201a8\"],[0.3333333333333333,\"#9c179e\"],[0.4444444444444444,\"#bd3786\"],[0.5555555555555556,\"#d8576b\"],[0.6666666666666666,\"#ed7953\"],[0.7777777777777778,\"#fb9f3a\"],[0.8888888888888888,\"#fdca26\"],[1.0,\"#f0f921\"]]}],\"mesh3d\":[{\"type\":\"mesh3d\",\"colorbar\":{\"outlinewidth\":0,\"ticks\":\"\"}}],\"scatter\":[{\"fillpattern\":{\"fillmode\":\"overlay\",\"size\":10,\"solidity\":0.2},\"type\":\"scatter\"}],\"parcoords\":[{\"type\":\"parcoords\",\"line\":{\"colorbar\":{\"outlinewidth\":0,\"ticks\":\"\"}}}],\"scatterpolargl\":[{\"type\":\"scatterpolargl\",\"marker\":{\"colorbar\":{\"outlinewidth\":0,\"ticks\":\"\"}}}],\"bar\":[{\"error_x\":{\"color\":\"#2a3f5f\"},\"error_y\":{\"color\":\"#2a3f5f\"},\"marker\":{\"line\":{\"color\":\"#E5ECF6\",\"width\":0.5},\"pattern\":{\"fillmode\":\"overlay\",\"size\":10,\"solidity\":0.2}},\"type\":\"bar\"}],\"scattergeo\":[{\"type\":\"scattergeo\",\"marker\":{\"colorbar\":{\"outlinewidth\":0,\"ticks\":\"\"}}}],\"scatterpolar\":[{\"type\":\"scatterpolar\",\"marker\":{\"colorbar\":{\"outlinewidth\":0,\"ticks\":\"\"}}}],\"histogram\":[{\"marker\":{\"pattern\":{\"fillmode\":\"overlay\",\"size\":10,\"solidity\":0.2}},\"type\":\"histogram\"}],\"scattergl\":[{\"type\":\"scattergl\",\"marker\":{\"colorbar\":{\"outlinewidth\":0,\"ticks\":\"\"}}}],\"scatter3d\":[{\"type\":\"scatter3d\",\"line\":{\"colorbar\":{\"outlinewidth\":0,\"ticks\":\"\"}},\"marker\":{\"colorbar\":{\"outlinewidth\":0,\"ticks\":\"\"}}}],\"scattermapbox\":[{\"type\":\"scattermapbox\",\"marker\":{\"colorbar\":{\"outlinewidth\":0,\"ticks\":\"\"}}}],\"scatterternary\":[{\"type\":\"scatterternary\",\"marker\":{\"colorbar\":{\"outlinewidth\":0,\"ticks\":\"\"}}}],\"scattercarpet\":[{\"type\":\"scattercarpet\",\"marker\":{\"colorbar\":{\"outlinewidth\":0,\"ticks\":\"\"}}}],\"carpet\":[{\"aaxis\":{\"endlinecolor\":\"#2a3f5f\",\"gridcolor\":\"white\",\"linecolor\":\"white\",\"minorgridcolor\":\"white\",\"startlinecolor\":\"#2a3f5f\"},\"baxis\":{\"endlinecolor\":\"#2a3f5f\",\"gridcolor\":\"white\",\"linecolor\":\"white\",\"minorgridcolor\":\"white\",\"startlinecolor\":\"#2a3f5f\"},\"type\":\"carpet\"}],\"table\":[{\"cells\":{\"fill\":{\"color\":\"#EBF0F8\"},\"line\":{\"color\":\"white\"}},\"header\":{\"fill\":{\"color\":\"#C8D4E3\"},\"line\":{\"color\":\"white\"}},\"type\":\"table\"}],\"barpolar\":[{\"marker\":{\"line\":{\"color\":\"#E5ECF6\",\"width\":0.5},\"pattern\":{\"fillmode\":\"overlay\",\"size\":10,\"solidity\":0.2}},\"type\":\"barpolar\"}],\"pie\":[{\"automargin\":true,\"type\":\"pie\"}]},\"layout\":{\"autotypenumbers\":\"strict\",\"colorway\":[\"#636efa\",\"#EF553B\",\"#00cc96\",\"#ab63fa\",\"#FFA15A\",\"#19d3f3\",\"#FF6692\",\"#B6E880\",\"#FF97FF\",\"#FECB52\"],\"font\":{\"color\":\"#2a3f5f\"},\"hovermode\":\"closest\",\"hoverlabel\":{\"align\":\"left\"},\"paper_bgcolor\":\"white\",\"plot_bgcolor\":\"#E5ECF6\",\"polar\":{\"bgcolor\":\"#E5ECF6\",\"angularaxis\":{\"gridcolor\":\"white\",\"linecolor\":\"white\",\"ticks\":\"\"},\"radialaxis\":{\"gridcolor\":\"white\",\"linecolor\":\"white\",\"ticks\":\"\"}},\"ternary\":{\"bgcolor\":\"#E5ECF6\",\"aaxis\":{\"gridcolor\":\"white\",\"linecolor\":\"white\",\"ticks\":\"\"},\"baxis\":{\"gridcolor\":\"white\",\"linecolor\":\"white\",\"ticks\":\"\"},\"caxis\":{\"gridcolor\":\"white\",\"linecolor\":\"white\",\"ticks\":\"\"}},\"coloraxis\":{\"colorbar\":{\"outlinewidth\":0,\"ticks\":\"\"}},\"colorscale\":{\"sequential\":[[0.0,\"#0d0887\"],[0.1111111111111111,\"#46039f\"],[0.2222222222222222,\"#7201a8\"],[0.3333333333333333,\"#9c179e\"],[0.4444444444444444,\"#bd3786\"],[0.5555555555555556,\"#d8576b\"],[0.6666666666666666,\"#ed7953\"],[0.7777777777777778,\"#fb9f3a\"],[0.8888888888888888,\"#fdca26\"],[1.0,\"#f0f921\"]],\"sequentialminus\":[[0.0,\"#0d0887\"],[0.1111111111111111,\"#46039f\"],[0.2222222222222222,\"#7201a8\"],[0.3333333333333333,\"#9c179e\"],[0.4444444444444444,\"#bd3786\"],[0.5555555555555556,\"#d8576b\"],[0.6666666666666666,\"#ed7953\"],[0.7777777777777778,\"#fb9f3a\"],[0.8888888888888888,\"#fdca26\"],[1.0,\"#f0f921\"]],\"diverging\":[[0,\"#8e0152\"],[0.1,\"#c51b7d\"],[0.2,\"#de77ae\"],[0.3,\"#f1b6da\"],[0.4,\"#fde0ef\"],[0.5,\"#f7f7f7\"],[0.6,\"#e6f5d0\"],[0.7,\"#b8e186\"],[0.8,\"#7fbc41\"],[0.9,\"#4d9221\"],[1,\"#276419\"]]},\"xaxis\":{\"gridcolor\":\"white\",\"linecolor\":\"white\",\"ticks\":\"\",\"title\":{\"standoff\":15},\"zerolinecolor\":\"white\",\"automargin\":true,\"zerolinewidth\":2},\"yaxis\":{\"gridcolor\":\"white\",\"linecolor\":\"white\",\"ticks\":\"\",\"title\":{\"standoff\":15},\"zerolinecolor\":\"white\",\"automargin\":true,\"zerolinewidth\":2},\"scene\":{\"xaxis\":{\"backgroundcolor\":\"#E5ECF6\",\"gridcolor\":\"white\",\"linecolor\":\"white\",\"showbackground\":true,\"ticks\":\"\",\"zerolinecolor\":\"white\",\"gridwidth\":2},\"yaxis\":{\"backgroundcolor\":\"#E5ECF6\",\"gridcolor\":\"white\",\"linecolor\":\"white\",\"showbackground\":true,\"ticks\":\"\",\"zerolinecolor\":\"white\",\"gridwidth\":2},\"zaxis\":{\"backgroundcolor\":\"#E5ECF6\",\"gridcolor\":\"white\",\"linecolor\":\"white\",\"showbackground\":true,\"ticks\":\"\",\"zerolinecolor\":\"white\",\"gridwidth\":2}},\"shapedefaults\":{\"line\":{\"color\":\"#2a3f5f\"}},\"annotationdefaults\":{\"arrowcolor\":\"#2a3f5f\",\"arrowhead\":0,\"arrowwidth\":1},\"geo\":{\"bgcolor\":\"white\",\"landcolor\":\"#E5ECF6\",\"subunitcolor\":\"white\",\"showland\":true,\"showlakes\":true,\"lakecolor\":\"white\"},\"title\":{\"x\":0.05},\"mapbox\":{\"style\":\"light\"}}},\"xaxis\":{\"anchor\":\"y\",\"domain\":[0.0,1.0],\"title\":{\"text\":\"n\"}},\"yaxis\":{\"anchor\":\"x\",\"domain\":[0.0,1.0],\"title\":{\"text\":\"n\"}},\"legend\":{\"tracegroupgap\":0},\"margin\":{\"t\":60},\"annotations\":[{\"arrowcolor\":\"red\",\"arrowhead\":1,\"arrowside\":\"end\",\"arrowsize\":2,\"arrowwidth\":0.5,\"ax\":1438.7368806915797,\"axref\":\"x\",\"ay\":0.0,\"ayref\":\"y\",\"x\":2939.1383603883296,\"xref\":\"x\",\"y\":0.0,\"yref\":\"y\"},{\"arrowcolor\":\"red\",\"arrowhead\":1,\"arrowside\":\"end\",\"arrowsize\":2,\"arrowwidth\":0.5,\"ax\":735.9206975860319,\"axref\":\"x\",\"ay\":1.0,\"ayref\":\"y\",\"x\":2754.39204625917,\"xref\":\"x\",\"y\":1.0,\"yref\":\"y\"},{\"arrowcolor\":\"black\",\"arrowhead\":1,\"arrowside\":\"end\",\"arrowsize\":2,\"arrowwidth\":0.5,\"ax\":553.4903520398166,\"axref\":\"x\",\"ay\":2.0,\"ayref\":\"y\",\"x\":3069.485371907357,\"xref\":\"x\",\"y\":2.0,\"yref\":\"y\"},{\"arrowcolor\":\"black\",\"arrowhead\":1,\"arrowside\":\"end\",\"arrowsize\":2,\"arrowwidth\":0.5,\"ax\":781.1546532428349,\"axref\":\"x\",\"ay\":3.0,\"ayref\":\"y\",\"x\":3309.172925776802,\"xref\":\"x\",\"y\":3.0,\"yref\":\"y\"},{\"arrowcolor\":\"red\",\"arrowhead\":1,\"arrowside\":\"end\",\"arrowsize\":2,\"arrowwidth\":0.5,\"ax\":672.0661187007761,\"axref\":\"x\",\"ay\":4.0,\"ayref\":\"y\",\"x\":2716.970393823089,\"xref\":\"x\",\"y\":4.0,\"yref\":\"y\"},{\"arrowcolor\":\"black\",\"arrowhead\":1,\"arrowside\":\"end\",\"arrowsize\":2,\"arrowwidth\":0.5,\"ax\":2698.4717870361947,\"axref\":\"x\",\"ay\":5.0,\"ayref\":\"y\",\"x\":4658.186961333825,\"xref\":\"x\",\"y\":5.0,\"yref\":\"y\"},{\"arrowcolor\":\"black\",\"arrowhead\":1,\"arrowside\":\"end\",\"arrowsize\":2,\"arrowwidth\":0.5,\"ax\":88.63654117674335,\"axref\":\"x\",\"ay\":6.0,\"ayref\":\"y\",\"x\":3099.7739501442416,\"xref\":\"x\",\"y\":6.0,\"yref\":\"y\"},{\"arrowcolor\":\"black\",\"arrowhead\":1,\"arrowside\":\"end\",\"arrowsize\":2,\"arrowwidth\":0.5,\"ax\":884.1972291431233,\"axref\":\"x\",\"ay\":7.0,\"ayref\":\"y\",\"x\":3689.801935414628,\"xref\":\"x\",\"y\":7.0,\"yref\":\"y\"},{\"arrowcolor\":\"red\",\"arrowhead\":1,\"arrowside\":\"end\",\"arrowsize\":2,\"arrowwidth\":0.5,\"ax\":319.87638399212415,\"axref\":\"x\",\"ay\":8.0,\"ayref\":\"y\",\"x\":2709.3576361860314,\"xref\":\"x\",\"y\":8.0,\"yref\":\"y\"},{\"arrowcolor\":\"black\",\"arrowhead\":1,\"arrowside\":\"end\",\"arrowsize\":2,\"arrowwidth\":0.5,\"ax\":1099.9146704282775,\"axref\":\"x\",\"ay\":9.0,\"ayref\":\"y\",\"x\":3809.3769050253245,\"xref\":\"x\",\"y\":9.0,\"yref\":\"y\"},{\"arrowcolor\":\"black\",\"arrowhead\":1,\"arrowside\":\"end\",\"arrowsize\":2,\"arrowwidth\":0.5,\"ax\":2168.848838389746,\"axref\":\"x\",\"ay\":10.0,\"ayref\":\"y\",\"x\":5158.451251876839,\"xref\":\"x\",\"y\":10.0,\"yref\":\"y\"},{\"arrowcolor\":\"red\",\"arrowhead\":1,\"arrowside\":\"end\",\"arrowsize\":2,\"arrowwidth\":0.5,\"ax\":531.3541764364124,\"axref\":\"x\",\"ay\":11.0,\"ayref\":\"y\",\"x\":2980.0820303819273,\"xref\":\"x\",\"y\":11.0,\"yref\":\"y\"},{\"arrowcolor\":\"black\",\"arrowhead\":1,\"arrowside\":\"end\",\"arrowsize\":2,\"arrowwidth\":0.5,\"ax\":2626.0279686475596,\"axref\":\"x\",\"ay\":12.0,\"ayref\":\"y\",\"x\":5091.325396841856,\"xref\":\"x\",\"y\":12.0,\"yref\":\"y\"},{\"arrowcolor\":\"red\",\"arrowhead\":1,\"arrowside\":\"end\",\"arrowsize\":2,\"arrowwidth\":0.5,\"ax\":591.1084892589397,\"axref\":\"x\",\"ay\":13.0,\"ayref\":\"y\",\"x\":2915.115650530095,\"xref\":\"x\",\"y\":13.0,\"yref\":\"y\"},{\"arrowcolor\":\"black\",\"arrowhead\":1,\"arrowside\":\"end\",\"arrowsize\":2,\"arrowwidth\":0.5,\"ax\":2306.4239112528885,\"axref\":\"x\",\"ay\":14.0,\"ayref\":\"y\",\"x\":4962.49610668278,\"xref\":\"x\",\"y\":14.0,\"yref\":\"y\"},{\"arrowcolor\":\"red\",\"arrowhead\":1,\"arrowside\":\"end\",\"arrowsize\":2,\"arrowwidth\":0.5,\"ax\":1155.7600668417272,\"axref\":\"x\",\"ay\":15.0,\"ayref\":\"y\",\"x\":2432.5523130156134,\"xref\":\"x\",\"y\":15.0,\"yref\":\"y\"},{\"arrowcolor\":\"black\",\"arrowhead\":1,\"arrowside\":\"end\",\"arrowsize\":2,\"arrowwidth\":0.5,\"ax\":976.1071362064099,\"axref\":\"x\",\"ay\":16.0,\"ayref\":\"y\",\"x\":3489.129246849037,\"xref\":\"x\",\"y\":16.0,\"yref\":\"y\"},{\"arrowcolor\":\"red\",\"arrowhead\":1,\"arrowside\":\"end\",\"arrowsize\":2,\"arrowwidth\":0.5,\"ax\":185.5571985928347,\"axref\":\"x\",\"ay\":17.0,\"ayref\":\"y\",\"x\":1951.3722758989968,\"xref\":\"x\",\"y\":17.0,\"yref\":\"y\"},{\"arrowcolor\":\"black\",\"arrowhead\":1,\"arrowside\":\"end\",\"arrowsize\":2,\"arrowwidth\":0.5,\"ax\":2322.797372403328,\"axref\":\"x\",\"ay\":18.0,\"ayref\":\"y\",\"x\":5030.171603687948,\"xref\":\"x\",\"y\":18.0,\"yref\":\"y\"},{\"arrowcolor\":\"red\",\"arrowhead\":1,\"arrowside\":\"end\",\"arrowsize\":2,\"arrowwidth\":0.5,\"ax\":617.9789105144743,\"axref\":\"x\",\"ay\":19.0,\"ayref\":\"y\",\"x\":2473.302809147796,\"xref\":\"x\",\"y\":19.0,\"yref\":\"y\"},{\"arrowcolor\":\"black\",\"arrowhead\":1,\"arrowside\":\"end\",\"arrowsize\":2,\"arrowwidth\":0.5,\"ax\":2299.6790062375126,\"axref\":\"x\",\"ay\":20.0,\"ayref\":\"y\",\"x\":4802.626339368342,\"xref\":\"x\",\"y\":20.0,\"yref\":\"y\"},{\"arrowcolor\":\"red\",\"arrowhead\":1,\"arrowside\":\"end\",\"arrowsize\":2,\"arrowwidth\":0.5,\"ax\":82.3050059704058,\"axref\":\"x\",\"ay\":21.0,\"ayref\":\"y\",\"x\":2979.844331322669,\"xref\":\"x\",\"y\":21.0,\"yref\":\"y\"},{\"arrowcolor\":\"black\",\"arrowhead\":1,\"arrowside\":\"end\",\"arrowsize\":2,\"arrowwidth\":0.5,\"ax\":2473.6822162444923,\"axref\":\"x\",\"ay\":22.0,\"ayref\":\"y\",\"x\":4621.593285122848,\"xref\":\"x\",\"y\":22.0,\"yref\":\"y\"},{\"arrowcolor\":\"red\",\"arrowhead\":1,\"arrowside\":\"end\",\"arrowsize\":2,\"arrowwidth\":0.5,\"ax\":590.3042145915587,\"axref\":\"x\",\"ay\":23.0,\"ayref\":\"y\",\"x\":1975.1875676323202,\"xref\":\"x\",\"y\":23.0,\"yref\":\"y\"},{\"arrowcolor\":\"black\",\"arrowhead\":1,\"arrowside\":\"end\",\"arrowsize\":2,\"arrowwidth\":0.5,\"ax\":2630.8170743235787,\"axref\":\"x\",\"ay\":24.0,\"ayref\":\"y\",\"x\":4543.050137116025,\"xref\":\"x\",\"y\":24.0,\"yref\":\"y\"},{\"arrowcolor\":\"black\",\"arrowhead\":1,\"arrowside\":\"end\",\"arrowsize\":2,\"arrowwidth\":0.5,\"ax\":2937.962522630574,\"axref\":\"x\",\"ay\":25.0,\"ayref\":\"y\",\"x\":5781.588823942213,\"xref\":\"x\",\"y\":25.0,\"yref\":\"y\"},{\"arrowcolor\":\"red\",\"arrowhead\":1,\"arrowside\":\"end\",\"arrowsize\":2,\"arrowwidth\":0.5,\"ax\":113.98440567725532,\"axref\":\"x\",\"ay\":26.0,\"ayref\":\"y\",\"x\":2724.3203927321783,\"xref\":\"x\",\"y\":26.0,\"yref\":\"y\"},{\"arrowcolor\":\"black\",\"arrowhead\":1,\"arrowside\":\"end\",\"arrowsize\":2,\"arrowwidth\":0.5,\"ax\":1316.5444532751512,\"axref\":\"x\",\"ay\":27.0,\"ayref\":\"y\",\"x\":3521.0407633980885,\"xref\":\"x\",\"y\":27.0,\"yref\":\"y\"},{\"arrowcolor\":\"black\",\"arrowhead\":1,\"arrowside\":\"end\",\"arrowsize\":2,\"arrowwidth\":0.5,\"ax\":1560.1177622326104,\"axref\":\"x\",\"ay\":28.0,\"ayref\":\"y\",\"x\":4231.6379928801325,\"xref\":\"x\",\"y\":28.0,\"yref\":\"y\"},{\"arrowcolor\":\"red\",\"arrowhead\":1,\"arrowside\":\"end\",\"arrowsize\":2,\"arrowwidth\":0.5,\"ax\":144.17239602915933,\"axref\":\"x\",\"ay\":29.0,\"ayref\":\"y\",\"x\":2714.115198978847,\"xref\":\"x\",\"y\":29.0,\"yref\":\"y\"},{\"arrowcolor\":\"black\",\"arrowhead\":1,\"arrowside\":\"end\",\"arrowsize\":2,\"arrowwidth\":0.5,\"ax\":1365.736412031275,\"axref\":\"x\",\"ay\":30.0,\"ayref\":\"y\",\"x\":3673.556806596678,\"xref\":\"x\",\"y\":30.0,\"yref\":\"y\"},{\"arrowcolor\":\"black\",\"arrowhead\":1,\"arrowside\":\"end\",\"arrowsize\":2,\"arrowwidth\":0.5,\"ax\":1129.148404450064,\"axref\":\"x\",\"ay\":31.0,\"ayref\":\"y\",\"x\":3394.917812024607,\"xref\":\"x\",\"y\":31.0,\"yref\":\"y\"},{\"arrowcolor\":\"red\",\"arrowhead\":1,\"arrowside\":\"end\",\"arrowsize\":2,\"arrowwidth\":0.5,\"ax\":244.68538813552732,\"axref\":\"x\",\"ay\":32.0,\"ayref\":\"y\",\"x\":2879.670348162839,\"xref\":\"x\",\"y\":32.0,\"yref\":\"y\"},{\"arrowcolor\":\"black\",\"arrowhead\":1,\"arrowside\":\"end\",\"arrowsize\":2,\"arrowwidth\":0.5,\"ax\":2726.3855043200583,\"axref\":\"x\",\"ay\":33.0,\"ayref\":\"y\",\"x\":5473.289518083293,\"xref\":\"x\",\"y\":33.0,\"yref\":\"y\"},{\"arrowcolor\":\"black\",\"arrowhead\":1,\"arrowside\":\"end\",\"arrowsize\":2,\"arrowwidth\":0.5,\"ax\":2590.2857472290525,\"axref\":\"x\",\"ay\":34.0,\"ayref\":\"y\",\"x\":4899.1904318289135,\"xref\":\"x\",\"y\":34.0,\"yref\":\"y\"},{\"arrowcolor\":\"red\",\"arrowhead\":1,\"arrowside\":\"end\",\"arrowsize\":2,\"arrowwidth\":0.5,\"ax\":787.9169696259986,\"axref\":\"x\",\"ay\":35.0,\"ayref\":\"y\",\"x\":2449.3364787332725,\"xref\":\"x\",\"y\":35.0,\"yref\":\"y\"},{\"arrowcolor\":\"black\",\"arrowhead\":1,\"arrowside\":\"end\",\"arrowsize\":2,\"arrowwidth\":0.5,\"ax\":1528.3100819551203,\"axref\":\"x\",\"ay\":36.0,\"ayref\":\"y\",\"x\":4250.360617752097,\"xref\":\"x\",\"y\":36.0,\"yref\":\"y\"},{\"arrowcolor\":\"black\",\"arrowhead\":1,\"arrowside\":\"end\",\"arrowsize\":2,\"arrowwidth\":0.5,\"ax\":756.1898880818349,\"axref\":\"x\",\"ay\":37.0,\"ayref\":\"y\",\"x\":3505.0671651659104,\"xref\":\"x\",\"y\":37.0,\"yref\":\"y\"},{\"arrowcolor\":\"black\",\"arrowhead\":1,\"arrowside\":\"end\",\"arrowsize\":2,\"arrowwidth\":0.5,\"ax\":2500.445446309666,\"axref\":\"x\",\"ay\":38.0,\"ayref\":\"y\",\"x\":5608.572257161844,\"xref\":\"x\",\"y\":38.0,\"yref\":\"y\"},{\"arrowcolor\":\"black\",\"arrowhead\":1,\"arrowside\":\"end\",\"arrowsize\":2,\"arrowwidth\":0.5,\"ax\":1309.1009422519498,\"axref\":\"x\",\"ay\":39.0,\"ayref\":\"y\",\"x\":3476.918545353714,\"xref\":\"x\",\"y\":39.0,\"yref\":\"y\"},{\"arrowcolor\":\"red\",\"arrowhead\":1,\"arrowside\":\"end\",\"arrowsize\":2,\"arrowwidth\":0.5,\"ax\":81.5613785792092,\"axref\":\"x\",\"ay\":40.0,\"ayref\":\"y\",\"x\":2924.249944576207,\"xref\":\"x\",\"y\":40.0,\"yref\":\"y\"},{\"arrowcolor\":\"black\",\"arrowhead\":1,\"arrowside\":\"end\",\"arrowsize\":2,\"arrowwidth\":0.5,\"ax\":1139.1923302283813,\"axref\":\"x\",\"ay\":41.0,\"ayref\":\"y\",\"x\":4010.485555460713,\"xref\":\"x\",\"y\":41.0,\"yref\":\"y\"},{\"arrowcolor\":\"black\",\"arrowhead\":1,\"arrowside\":\"end\",\"arrowsize\":2,\"arrowwidth\":0.5,\"ax\":1624.2807634879464,\"axref\":\"x\",\"ay\":42.0,\"ayref\":\"y\",\"x\":3882.990999914623,\"xref\":\"x\",\"y\":42.0,\"yref\":\"y\"},{\"arrowcolor\":\"black\",\"arrowhead\":1,\"arrowside\":\"end\",\"arrowsize\":2,\"arrowwidth\":0.5,\"ax\":2712.8415988666648,\"axref\":\"x\",\"ay\":43.0,\"ayref\":\"y\",\"x\":4889.598930288605,\"xref\":\"x\",\"y\":43.0,\"yref\":\"y\"},{\"arrowcolor\":\"red\",\"arrowhead\":1,\"arrowside\":\"end\",\"arrowsize\":2,\"arrowwidth\":0.5,\"ax\":247.08727943004772,\"axref\":\"x\",\"ay\":44.0,\"ayref\":\"y\",\"x\":2799.577603108095,\"xref\":\"x\",\"y\":44.0,\"yref\":\"y\"},{\"arrowcolor\":\"black\",\"arrowhead\":1,\"arrowside\":\"end\",\"arrowsize\":2,\"arrowwidth\":0.5,\"ax\":630.8362117396839,\"axref\":\"x\",\"ay\":45.0,\"ayref\":\"y\",\"x\":3236.7074367896394,\"xref\":\"x\",\"y\":45.0,\"yref\":\"y\"},{\"arrowcolor\":\"black\",\"arrowhead\":1,\"arrowside\":\"end\",\"arrowsize\":2,\"arrowwidth\":0.5,\"ax\":1359.906987477237,\"axref\":\"x\",\"ay\":46.0,\"ayref\":\"y\",\"x\":3333.508066400476,\"xref\":\"x\",\"y\":46.0,\"yref\":\"y\"},{\"arrowcolor\":\"black\",\"arrowhead\":1,\"arrowside\":\"end\",\"arrowsize\":2,\"arrowwidth\":0.5,\"ax\":2363.590833585488,\"axref\":\"x\",\"ay\":47.0,\"ayref\":\"y\",\"x\":4500.835251524115,\"xref\":\"x\",\"y\":47.0,\"yref\":\"y\"},{\"arrowcolor\":\"black\",\"arrowhead\":1,\"arrowside\":\"end\",\"arrowsize\":2,\"arrowwidth\":0.5,\"ax\":2644.88311130856,\"axref\":\"x\",\"ay\":48.0,\"ayref\":\"y\",\"x\":5181.992363553464,\"xref\":\"x\",\"y\":48.0,\"yref\":\"y\"},{\"arrowcolor\":\"black\",\"arrowhead\":1,\"arrowside\":\"end\",\"arrowsize\":2,\"arrowwidth\":0.5,\"ax\":727.557258825252,\"axref\":\"x\",\"ay\":49.0,\"ayref\":\"y\",\"x\":3159.3569395596887,\"xref\":\"x\",\"y\":49.0,\"yref\":\"y\"},{\"arrowcolor\":\"green\",\"arrowhead\":1,\"arrowside\":\"end\",\"arrowsize\":2,\"arrowwidth\":1,\"ax\":0,\"axref\":\"x\",\"ay\":51,\"ayref\":\"y\",\"x\":3000,\"xref\":\"x\",\"y\":51,\"yref\":\"y\"}],\"title\":{\"text\":\"Distance travelled in one lap for each n, Red: Overtaken by Me (Green)\"},\"showlegend\":false},                        {\"responsive\": true}                    ).then(function(){\n",
              "                            \n",
              "var gd = document.getElementById('bc7a41ac-98a5-4f46-9677-7671357b084c');\n",
              "var x = new MutationObserver(function (mutations, observer) {{\n",
              "        var display = window.getComputedStyle(gd).display;\n",
              "        if (!display || display === 'none') {{\n",
              "            console.log([gd, 'removed!']);\n",
              "            Plotly.purge(gd);\n",
              "            observer.disconnect();\n",
              "        }}\n",
              "}});\n",
              "\n",
              "// Listen for the removal of the full notebook cells\n",
              "var notebookContainer = gd.closest('#notebook-container');\n",
              "if (notebookContainer) {{\n",
              "    x.observe(notebookContainer, {childList: true});\n",
              "}}\n",
              "\n",
              "// Listen for the clearing of the current output cell\n",
              "var outputEl = gd.closest('.output');\n",
              "if (outputEl) {{\n",
              "    x.observe(outputEl, {childList: true});\n",
              "}}\n",
              "\n",
              "                        })                };                            </script>        </div>\n",
              "</body>\n",
              "</html>"
            ]
          },
          "metadata": {}
        }
      ]
    },
    {
      "cell_type": "markdown",
      "source": [
        "### Single lap animation plot"
      ],
      "metadata": {
        "id": "UJTdrZsEqG46"
      }
    },
    {
      "cell_type": "code",
      "source": [
        "# Generate my dataframe for n_steps\n",
        "\n",
        "mds = [0]\n",
        "\n",
        "for t in range(1, n_steps + 1):\n",
        "  d1 = alpha * MY_SPEED * t / n_steps\n",
        "  mds.append(d1)\n",
        "\n",
        "my_df_steps = pd.DataFrame(data={'n' : [(N/2)+1]*(n_steps + 1), 't' : range(0, n_steps +1), 'd0' : [0]*(n_steps + 1), 'd1' : mds, 'overtaken' : [2]*(n_steps + 1)})\n"
      ],
      "metadata": {
        "id": "p9FtYDyAxhol"
      },
      "execution_count": 11,
      "outputs": []
    },
    {
      "cell_type": "code",
      "source": [
        "# Generate runners dataframe for n_steps\n",
        "\n",
        "runners_df_steps = pd.DataFrame()\n",
        "\n",
        "for n in range(int(N/2)):\n",
        "  x = runners[n]\n",
        "  ds = [x[0]]\n",
        "  color = [0]\n",
        "  for t in range(1, n_steps + 1):\n",
        "    d1 = x[0] + alpha * x[1] * t / n_steps\n",
        "    ds.append(d1)\n",
        "    if d1 < mds[t]:\n",
        "      color.append(1)\n",
        "    else:\n",
        "      color.append(0)\n",
        "\n",
        "\n",
        "  r = pd.DataFrame(data={'n' : [n]*(n_steps + 1), 't' : range(0, (n_steps + 1) ), 'd0' : [x[0]]*(n_steps + 1), 'd1' : ds, 'overtaken' : color})\n",
        "  runners_df_steps = pd.concat((runners_df_steps, r), axis=0)\n"
      ],
      "metadata": {
        "id": "xTvlJ_g3ubpv"
      },
      "execution_count": 12,
      "outputs": []
    },
    {
      "cell_type": "code",
      "source": [
        "# Combine the two\n",
        "df_steps = pd.concat((runners_df_steps, my_df_steps), axis=0)"
      ],
      "metadata": {
        "id": "gLGDu6flwDR1"
      },
      "execution_count": 13,
      "outputs": []
    },
    {
      "cell_type": "code",
      "source": [
        "# Plot animation\n",
        "\n",
        "fig = px.scatter(df_steps, x=\"d1\", y=\"n\", animation_frame=\"t\", animation_group=\"n\", color='overtaken',\n",
        "            size_max=55, range_x=[-20,2*L], range_y=[0,52],\n",
        "           height = 600, width = 1000,  color_continuous_scale=[\"black\", \"red\", \"green\"],\n",
        "          labels={\n",
        "                  \"d1\": \"Distance from Me (m)\",\n",
        "                  \"n\": \"Runner (n_i)\",\n",
        "              },\n",
        "          )\n",
        "\n",
        "fig.add_vline(x=L, line_width=2, line_dash=\"dash\", line_color=\"gray\")\n",
        "\n",
        "# lines and markers on first display\n",
        "fig.for_each_trace(lambda t: t.update(mode = 'markers',))\n",
        "\n",
        "# lineas and markers on animation frames\n",
        "for fr in fig.frames:\n",
        "    for d in fr.data:\n",
        "        d.update(mode='markers',)\n",
        "\n",
        "fig.update_layout(title='Distance travelled for each runner, Me: Green, Overtaken by Me: Red',  template='simple_white',)\n",
        "fig.layout.showlegend = False\n",
        "fig.show()"
      ],
      "metadata": {
        "colab": {
          "base_uri": "https://localhost:8080/",
          "height": 617
        },
        "id": "YUlh7gXzuWRt",
        "outputId": "67c07a88-df95-4da9-b860-a709562cf0cb"
      },
      "execution_count": 14,
      "outputs": [
        {
          "output_type": "display_data",
          "data": {
            "text/html": [
              "<html>\n",
              "<head><meta charset=\"utf-8\" /></head>\n",
              "<body>\n",
              "    <div>            <script src=\"https://cdnjs.cloudflare.com/ajax/libs/mathjax/2.7.5/MathJax.js?config=TeX-AMS-MML_SVG\"></script><script type=\"text/javascript\">if (window.MathJax && window.MathJax.Hub && window.MathJax.Hub.Config) {window.MathJax.Hub.Config({SVG: {font: \"STIX-Web\"}});}</script>                <script type=\"text/javascript\">window.PlotlyConfig = {MathJaxConfig: 'local'};</script>\n",
              "        <script charset=\"utf-8\" src=\"https://cdn.plot.ly/plotly-2.24.1.min.js\"></script>                <div id=\"4ee3922a-eb5c-4a8e-a55f-de97e8e64722\" class=\"plotly-graph-div\" style=\"height:600px; width:1000px;\"></div>            <script type=\"text/javascript\">                                    window.PLOTLYENV=window.PLOTLYENV || {};                                    if (document.getElementById(\"4ee3922a-eb5c-4a8e-a55f-de97e8e64722\")) {                    Plotly.newPlot(                        \"4ee3922a-eb5c-4a8e-a55f-de97e8e64722\",                        [{\"hovertemplate\":\"t=0\\u003cbr\\u003eDistance from Me (m)=%{x}\\u003cbr\\u003eRunner (n_i)=%{y}\\u003cbr\\u003eovertaken=%{marker.color}\\u003cextra\\u003e\\u003c\\u002fextra\\u003e\",\"ids\":[0.0,1.0,2.0,3.0,4.0,5.0,6.0,7.0,8.0,9.0,10.0,11.0,12.0,13.0,14.0,15.0,16.0,17.0,18.0,19.0,20.0,21.0,22.0,23.0,24.0,25.0,26.0,27.0,28.0,29.0,30.0,31.0,32.0,33.0,34.0,35.0,36.0,37.0,38.0,39.0,40.0,41.0,42.0,43.0,44.0,45.0,46.0,47.0,48.0,49.0,51.0],\"legendgroup\":\"\",\"marker\":{\"color\":[0,0,0,0,0,0,0,0,0,0,0,0,0,0,0,0,0,0,0,0,0,0,0,0,0,0,0,0,0,0,0,0,0,0,0,0,0,0,0,0,0,0,0,0,0,0,0,0,0,0,2],\"coloraxis\":\"coloraxis\",\"symbol\":\"circle\"},\"mode\":\"markers\",\"name\":\"\",\"orientation\":\"v\",\"showlegend\":false,\"x\":[1438.7368806915797,735.9206975860319,553.4903520398166,781.1546532428349,672.0661187007761,2698.4717870361947,88.63654117674335,884.1972291431233,319.87638399212415,1099.9146704282775,2168.848838389746,531.3541764364124,2626.0279686475596,591.1084892589397,2306.4239112528885,1155.7600668417272,976.1071362064099,185.5571985928347,2322.797372403328,617.9789105144743,2299.6790062375126,82.3050059704058,2473.6822162444923,590.3042145915587,2630.8170743235787,2937.962522630574,113.98440567725532,1316.5444532751512,1560.1177622326104,144.17239602915933,1365.736412031275,1129.148404450064,244.68538813552732,2726.3855043200583,2590.2857472290525,787.9169696259986,1528.3100819551203,756.1898880818349,2500.445446309666,1309.1009422519498,81.5613785792092,1139.1923302283813,1624.2807634879464,2712.8415988666648,247.08727943004772,630.8362117396839,1359.906987477237,2363.590833585488,2644.88311130856,727.557258825252,0.0],\"xaxis\":\"x\",\"y\":[0.0,1.0,2.0,3.0,4.0,5.0,6.0,7.0,8.0,9.0,10.0,11.0,12.0,13.0,14.0,15.0,16.0,17.0,18.0,19.0,20.0,21.0,22.0,23.0,24.0,25.0,26.0,27.0,28.0,29.0,30.0,31.0,32.0,33.0,34.0,35.0,36.0,37.0,38.0,39.0,40.0,41.0,42.0,43.0,44.0,45.0,46.0,47.0,48.0,49.0,51.0],\"yaxis\":\"y\",\"type\":\"scatter\"}],                        {\"template\":{\"data\":{\"barpolar\":[{\"marker\":{\"line\":{\"color\":\"white\",\"width\":0.5},\"pattern\":{\"fillmode\":\"overlay\",\"size\":10,\"solidity\":0.2}},\"type\":\"barpolar\"}],\"bar\":[{\"error_x\":{\"color\":\"rgb(36,36,36)\"},\"error_y\":{\"color\":\"rgb(36,36,36)\"},\"marker\":{\"line\":{\"color\":\"white\",\"width\":0.5},\"pattern\":{\"fillmode\":\"overlay\",\"size\":10,\"solidity\":0.2}},\"type\":\"bar\"}],\"carpet\":[{\"aaxis\":{\"endlinecolor\":\"rgb(36,36,36)\",\"gridcolor\":\"white\",\"linecolor\":\"white\",\"minorgridcolor\":\"white\",\"startlinecolor\":\"rgb(36,36,36)\"},\"baxis\":{\"endlinecolor\":\"rgb(36,36,36)\",\"gridcolor\":\"white\",\"linecolor\":\"white\",\"minorgridcolor\":\"white\",\"startlinecolor\":\"rgb(36,36,36)\"},\"type\":\"carpet\"}],\"choropleth\":[{\"colorbar\":{\"outlinewidth\":1,\"tickcolor\":\"rgb(36,36,36)\",\"ticks\":\"outside\"},\"type\":\"choropleth\"}],\"contourcarpet\":[{\"colorbar\":{\"outlinewidth\":1,\"tickcolor\":\"rgb(36,36,36)\",\"ticks\":\"outside\"},\"type\":\"contourcarpet\"}],\"contour\":[{\"colorbar\":{\"outlinewidth\":1,\"tickcolor\":\"rgb(36,36,36)\",\"ticks\":\"outside\"},\"colorscale\":[[0.0,\"#440154\"],[0.1111111111111111,\"#482878\"],[0.2222222222222222,\"#3e4989\"],[0.3333333333333333,\"#31688e\"],[0.4444444444444444,\"#26828e\"],[0.5555555555555556,\"#1f9e89\"],[0.6666666666666666,\"#35b779\"],[0.7777777777777778,\"#6ece58\"],[0.8888888888888888,\"#b5de2b\"],[1.0,\"#fde725\"]],\"type\":\"contour\"}],\"heatmapgl\":[{\"colorbar\":{\"outlinewidth\":1,\"tickcolor\":\"rgb(36,36,36)\",\"ticks\":\"outside\"},\"colorscale\":[[0.0,\"#440154\"],[0.1111111111111111,\"#482878\"],[0.2222222222222222,\"#3e4989\"],[0.3333333333333333,\"#31688e\"],[0.4444444444444444,\"#26828e\"],[0.5555555555555556,\"#1f9e89\"],[0.6666666666666666,\"#35b779\"],[0.7777777777777778,\"#6ece58\"],[0.8888888888888888,\"#b5de2b\"],[1.0,\"#fde725\"]],\"type\":\"heatmapgl\"}],\"heatmap\":[{\"colorbar\":{\"outlinewidth\":1,\"tickcolor\":\"rgb(36,36,36)\",\"ticks\":\"outside\"},\"colorscale\":[[0.0,\"#440154\"],[0.1111111111111111,\"#482878\"],[0.2222222222222222,\"#3e4989\"],[0.3333333333333333,\"#31688e\"],[0.4444444444444444,\"#26828e\"],[0.5555555555555556,\"#1f9e89\"],[0.6666666666666666,\"#35b779\"],[0.7777777777777778,\"#6ece58\"],[0.8888888888888888,\"#b5de2b\"],[1.0,\"#fde725\"]],\"type\":\"heatmap\"}],\"histogram2dcontour\":[{\"colorbar\":{\"outlinewidth\":1,\"tickcolor\":\"rgb(36,36,36)\",\"ticks\":\"outside\"},\"colorscale\":[[0.0,\"#440154\"],[0.1111111111111111,\"#482878\"],[0.2222222222222222,\"#3e4989\"],[0.3333333333333333,\"#31688e\"],[0.4444444444444444,\"#26828e\"],[0.5555555555555556,\"#1f9e89\"],[0.6666666666666666,\"#35b779\"],[0.7777777777777778,\"#6ece58\"],[0.8888888888888888,\"#b5de2b\"],[1.0,\"#fde725\"]],\"type\":\"histogram2dcontour\"}],\"histogram2d\":[{\"colorbar\":{\"outlinewidth\":1,\"tickcolor\":\"rgb(36,36,36)\",\"ticks\":\"outside\"},\"colorscale\":[[0.0,\"#440154\"],[0.1111111111111111,\"#482878\"],[0.2222222222222222,\"#3e4989\"],[0.3333333333333333,\"#31688e\"],[0.4444444444444444,\"#26828e\"],[0.5555555555555556,\"#1f9e89\"],[0.6666666666666666,\"#35b779\"],[0.7777777777777778,\"#6ece58\"],[0.8888888888888888,\"#b5de2b\"],[1.0,\"#fde725\"]],\"type\":\"histogram2d\"}],\"histogram\":[{\"marker\":{\"line\":{\"color\":\"white\",\"width\":0.6}},\"type\":\"histogram\"}],\"mesh3d\":[{\"colorbar\":{\"outlinewidth\":1,\"tickcolor\":\"rgb(36,36,36)\",\"ticks\":\"outside\"},\"type\":\"mesh3d\"}],\"parcoords\":[{\"line\":{\"colorbar\":{\"outlinewidth\":1,\"tickcolor\":\"rgb(36,36,36)\",\"ticks\":\"outside\"}},\"type\":\"parcoords\"}],\"pie\":[{\"automargin\":true,\"type\":\"pie\"}],\"scatter3d\":[{\"line\":{\"colorbar\":{\"outlinewidth\":1,\"tickcolor\":\"rgb(36,36,36)\",\"ticks\":\"outside\"}},\"marker\":{\"colorbar\":{\"outlinewidth\":1,\"tickcolor\":\"rgb(36,36,36)\",\"ticks\":\"outside\"}},\"type\":\"scatter3d\"}],\"scattercarpet\":[{\"marker\":{\"colorbar\":{\"outlinewidth\":1,\"tickcolor\":\"rgb(36,36,36)\",\"ticks\":\"outside\"}},\"type\":\"scattercarpet\"}],\"scattergeo\":[{\"marker\":{\"colorbar\":{\"outlinewidth\":1,\"tickcolor\":\"rgb(36,36,36)\",\"ticks\":\"outside\"}},\"type\":\"scattergeo\"}],\"scattergl\":[{\"marker\":{\"colorbar\":{\"outlinewidth\":1,\"tickcolor\":\"rgb(36,36,36)\",\"ticks\":\"outside\"}},\"type\":\"scattergl\"}],\"scattermapbox\":[{\"marker\":{\"colorbar\":{\"outlinewidth\":1,\"tickcolor\":\"rgb(36,36,36)\",\"ticks\":\"outside\"}},\"type\":\"scattermapbox\"}],\"scatterpolargl\":[{\"marker\":{\"colorbar\":{\"outlinewidth\":1,\"tickcolor\":\"rgb(36,36,36)\",\"ticks\":\"outside\"}},\"type\":\"scatterpolargl\"}],\"scatterpolar\":[{\"marker\":{\"colorbar\":{\"outlinewidth\":1,\"tickcolor\":\"rgb(36,36,36)\",\"ticks\":\"outside\"}},\"type\":\"scatterpolar\"}],\"scatter\":[{\"fillpattern\":{\"fillmode\":\"overlay\",\"size\":10,\"solidity\":0.2},\"type\":\"scatter\"}],\"scatterternary\":[{\"marker\":{\"colorbar\":{\"outlinewidth\":1,\"tickcolor\":\"rgb(36,36,36)\",\"ticks\":\"outside\"}},\"type\":\"scatterternary\"}],\"surface\":[{\"colorbar\":{\"outlinewidth\":1,\"tickcolor\":\"rgb(36,36,36)\",\"ticks\":\"outside\"},\"colorscale\":[[0.0,\"#440154\"],[0.1111111111111111,\"#482878\"],[0.2222222222222222,\"#3e4989\"],[0.3333333333333333,\"#31688e\"],[0.4444444444444444,\"#26828e\"],[0.5555555555555556,\"#1f9e89\"],[0.6666666666666666,\"#35b779\"],[0.7777777777777778,\"#6ece58\"],[0.8888888888888888,\"#b5de2b\"],[1.0,\"#fde725\"]],\"type\":\"surface\"}],\"table\":[{\"cells\":{\"fill\":{\"color\":\"rgb(237,237,237)\"},\"line\":{\"color\":\"white\"}},\"header\":{\"fill\":{\"color\":\"rgb(217,217,217)\"},\"line\":{\"color\":\"white\"}},\"type\":\"table\"}]},\"layout\":{\"annotationdefaults\":{\"arrowhead\":0,\"arrowwidth\":1},\"autotypenumbers\":\"strict\",\"coloraxis\":{\"colorbar\":{\"outlinewidth\":1,\"tickcolor\":\"rgb(36,36,36)\",\"ticks\":\"outside\"}},\"colorscale\":{\"diverging\":[[0.0,\"rgb(103,0,31)\"],[0.1,\"rgb(178,24,43)\"],[0.2,\"rgb(214,96,77)\"],[0.3,\"rgb(244,165,130)\"],[0.4,\"rgb(253,219,199)\"],[0.5,\"rgb(247,247,247)\"],[0.6,\"rgb(209,229,240)\"],[0.7,\"rgb(146,197,222)\"],[0.8,\"rgb(67,147,195)\"],[0.9,\"rgb(33,102,172)\"],[1.0,\"rgb(5,48,97)\"]],\"sequential\":[[0.0,\"#440154\"],[0.1111111111111111,\"#482878\"],[0.2222222222222222,\"#3e4989\"],[0.3333333333333333,\"#31688e\"],[0.4444444444444444,\"#26828e\"],[0.5555555555555556,\"#1f9e89\"],[0.6666666666666666,\"#35b779\"],[0.7777777777777778,\"#6ece58\"],[0.8888888888888888,\"#b5de2b\"],[1.0,\"#fde725\"]],\"sequentialminus\":[[0.0,\"#440154\"],[0.1111111111111111,\"#482878\"],[0.2222222222222222,\"#3e4989\"],[0.3333333333333333,\"#31688e\"],[0.4444444444444444,\"#26828e\"],[0.5555555555555556,\"#1f9e89\"],[0.6666666666666666,\"#35b779\"],[0.7777777777777778,\"#6ece58\"],[0.8888888888888888,\"#b5de2b\"],[1.0,\"#fde725\"]]},\"colorway\":[\"#1F77B4\",\"#FF7F0E\",\"#2CA02C\",\"#D62728\",\"#9467BD\",\"#8C564B\",\"#E377C2\",\"#7F7F7F\",\"#BCBD22\",\"#17BECF\"],\"font\":{\"color\":\"rgb(36,36,36)\"},\"geo\":{\"bgcolor\":\"white\",\"lakecolor\":\"white\",\"landcolor\":\"white\",\"showlakes\":true,\"showland\":true,\"subunitcolor\":\"white\"},\"hoverlabel\":{\"align\":\"left\"},\"hovermode\":\"closest\",\"mapbox\":{\"style\":\"light\"},\"paper_bgcolor\":\"white\",\"plot_bgcolor\":\"white\",\"polar\":{\"angularaxis\":{\"gridcolor\":\"rgb(232,232,232)\",\"linecolor\":\"rgb(36,36,36)\",\"showgrid\":false,\"showline\":true,\"ticks\":\"outside\"},\"bgcolor\":\"white\",\"radialaxis\":{\"gridcolor\":\"rgb(232,232,232)\",\"linecolor\":\"rgb(36,36,36)\",\"showgrid\":false,\"showline\":true,\"ticks\":\"outside\"}},\"scene\":{\"xaxis\":{\"backgroundcolor\":\"white\",\"gridcolor\":\"rgb(232,232,232)\",\"gridwidth\":2,\"linecolor\":\"rgb(36,36,36)\",\"showbackground\":true,\"showgrid\":false,\"showline\":true,\"ticks\":\"outside\",\"zeroline\":false,\"zerolinecolor\":\"rgb(36,36,36)\"},\"yaxis\":{\"backgroundcolor\":\"white\",\"gridcolor\":\"rgb(232,232,232)\",\"gridwidth\":2,\"linecolor\":\"rgb(36,36,36)\",\"showbackground\":true,\"showgrid\":false,\"showline\":true,\"ticks\":\"outside\",\"zeroline\":false,\"zerolinecolor\":\"rgb(36,36,36)\"},\"zaxis\":{\"backgroundcolor\":\"white\",\"gridcolor\":\"rgb(232,232,232)\",\"gridwidth\":2,\"linecolor\":\"rgb(36,36,36)\",\"showbackground\":true,\"showgrid\":false,\"showline\":true,\"ticks\":\"outside\",\"zeroline\":false,\"zerolinecolor\":\"rgb(36,36,36)\"}},\"shapedefaults\":{\"fillcolor\":\"black\",\"line\":{\"width\":0},\"opacity\":0.3},\"ternary\":{\"aaxis\":{\"gridcolor\":\"rgb(232,232,232)\",\"linecolor\":\"rgb(36,36,36)\",\"showgrid\":false,\"showline\":true,\"ticks\":\"outside\"},\"baxis\":{\"gridcolor\":\"rgb(232,232,232)\",\"linecolor\":\"rgb(36,36,36)\",\"showgrid\":false,\"showline\":true,\"ticks\":\"outside\"},\"bgcolor\":\"white\",\"caxis\":{\"gridcolor\":\"rgb(232,232,232)\",\"linecolor\":\"rgb(36,36,36)\",\"showgrid\":false,\"showline\":true,\"ticks\":\"outside\"}},\"title\":{\"x\":0.05},\"xaxis\":{\"automargin\":true,\"gridcolor\":\"rgb(232,232,232)\",\"linecolor\":\"rgb(36,36,36)\",\"showgrid\":false,\"showline\":true,\"ticks\":\"outside\",\"title\":{\"standoff\":15},\"zeroline\":false,\"zerolinecolor\":\"rgb(36,36,36)\"},\"yaxis\":{\"automargin\":true,\"gridcolor\":\"rgb(232,232,232)\",\"linecolor\":\"rgb(36,36,36)\",\"showgrid\":false,\"showline\":true,\"ticks\":\"outside\",\"title\":{\"standoff\":15},\"zeroline\":false,\"zerolinecolor\":\"rgb(36,36,36)\"}}},\"xaxis\":{\"anchor\":\"y\",\"domain\":[0.0,1.0],\"title\":{\"text\":\"Distance from Me (m)\"},\"range\":[-20,6000]},\"yaxis\":{\"anchor\":\"x\",\"domain\":[0.0,1.0],\"title\":{\"text\":\"Runner (n_i)\"},\"range\":[0,52]},\"coloraxis\":{\"colorbar\":{\"title\":{\"text\":\"overtaken\"}},\"colorscale\":[[0.0,\"black\"],[0.5,\"red\"],[1.0,\"green\"]]},\"legend\":{\"tracegroupgap\":0},\"margin\":{\"t\":60},\"height\":600,\"width\":1000,\"updatemenus\":[{\"buttons\":[{\"args\":[null,{\"frame\":{\"duration\":500,\"redraw\":false},\"mode\":\"immediate\",\"fromcurrent\":true,\"transition\":{\"duration\":500,\"easing\":\"linear\"}}],\"label\":\"&#9654;\",\"method\":\"animate\"},{\"args\":[[null],{\"frame\":{\"duration\":0,\"redraw\":false},\"mode\":\"immediate\",\"fromcurrent\":true,\"transition\":{\"duration\":0,\"easing\":\"linear\"}}],\"label\":\"&#9724;\",\"method\":\"animate\"}],\"direction\":\"left\",\"pad\":{\"r\":10,\"t\":70},\"showactive\":false,\"type\":\"buttons\",\"x\":0.1,\"xanchor\":\"right\",\"y\":0,\"yanchor\":\"top\"}],\"sliders\":[{\"active\":0,\"currentvalue\":{\"prefix\":\"t=\"},\"len\":0.9,\"pad\":{\"b\":10,\"t\":60},\"steps\":[{\"args\":[[\"0\"],{\"frame\":{\"duration\":0,\"redraw\":false},\"mode\":\"immediate\",\"fromcurrent\":true,\"transition\":{\"duration\":0,\"easing\":\"linear\"}}],\"label\":\"0\",\"method\":\"animate\"},{\"args\":[[\"1\"],{\"frame\":{\"duration\":0,\"redraw\":false},\"mode\":\"immediate\",\"fromcurrent\":true,\"transition\":{\"duration\":0,\"easing\":\"linear\"}}],\"label\":\"1\",\"method\":\"animate\"},{\"args\":[[\"2\"],{\"frame\":{\"duration\":0,\"redraw\":false},\"mode\":\"immediate\",\"fromcurrent\":true,\"transition\":{\"duration\":0,\"easing\":\"linear\"}}],\"label\":\"2\",\"method\":\"animate\"},{\"args\":[[\"3\"],{\"frame\":{\"duration\":0,\"redraw\":false},\"mode\":\"immediate\",\"fromcurrent\":true,\"transition\":{\"duration\":0,\"easing\":\"linear\"}}],\"label\":\"3\",\"method\":\"animate\"},{\"args\":[[\"4\"],{\"frame\":{\"duration\":0,\"redraw\":false},\"mode\":\"immediate\",\"fromcurrent\":true,\"transition\":{\"duration\":0,\"easing\":\"linear\"}}],\"label\":\"4\",\"method\":\"animate\"},{\"args\":[[\"5\"],{\"frame\":{\"duration\":0,\"redraw\":false},\"mode\":\"immediate\",\"fromcurrent\":true,\"transition\":{\"duration\":0,\"easing\":\"linear\"}}],\"label\":\"5\",\"method\":\"animate\"},{\"args\":[[\"6\"],{\"frame\":{\"duration\":0,\"redraw\":false},\"mode\":\"immediate\",\"fromcurrent\":true,\"transition\":{\"duration\":0,\"easing\":\"linear\"}}],\"label\":\"6\",\"method\":\"animate\"},{\"args\":[[\"7\"],{\"frame\":{\"duration\":0,\"redraw\":false},\"mode\":\"immediate\",\"fromcurrent\":true,\"transition\":{\"duration\":0,\"easing\":\"linear\"}}],\"label\":\"7\",\"method\":\"animate\"},{\"args\":[[\"8\"],{\"frame\":{\"duration\":0,\"redraw\":false},\"mode\":\"immediate\",\"fromcurrent\":true,\"transition\":{\"duration\":0,\"easing\":\"linear\"}}],\"label\":\"8\",\"method\":\"animate\"},{\"args\":[[\"9\"],{\"frame\":{\"duration\":0,\"redraw\":false},\"mode\":\"immediate\",\"fromcurrent\":true,\"transition\":{\"duration\":0,\"easing\":\"linear\"}}],\"label\":\"9\",\"method\":\"animate\"},{\"args\":[[\"10\"],{\"frame\":{\"duration\":0,\"redraw\":false},\"mode\":\"immediate\",\"fromcurrent\":true,\"transition\":{\"duration\":0,\"easing\":\"linear\"}}],\"label\":\"10\",\"method\":\"animate\"},{\"args\":[[\"11\"],{\"frame\":{\"duration\":0,\"redraw\":false},\"mode\":\"immediate\",\"fromcurrent\":true,\"transition\":{\"duration\":0,\"easing\":\"linear\"}}],\"label\":\"11\",\"method\":\"animate\"}],\"x\":0.1,\"xanchor\":\"left\",\"y\":0,\"yanchor\":\"top\"}],\"shapes\":[{\"line\":{\"color\":\"gray\",\"dash\":\"dash\",\"width\":2},\"type\":\"line\",\"x0\":3000,\"x1\":3000,\"xref\":\"x\",\"y0\":0,\"y1\":1,\"yref\":\"y domain\"}],\"title\":{\"text\":\"Distance travelled for each runner, Me: Green, Overtaken by Me: Red\"},\"showlegend\":false},                        {\"responsive\": true}                    ).then(function(){\n",
              "                            Plotly.addFrames('4ee3922a-eb5c-4a8e-a55f-de97e8e64722', [{\"data\":[{\"hovertemplate\":\"t=0\\u003cbr\\u003eDistance from Me (m)=%{x}\\u003cbr\\u003eRunner (n_i)=%{y}\\u003cbr\\u003eovertaken=%{marker.color}\\u003cextra\\u003e\\u003c\\u002fextra\\u003e\",\"ids\":[0.0,1.0,2.0,3.0,4.0,5.0,6.0,7.0,8.0,9.0,10.0,11.0,12.0,13.0,14.0,15.0,16.0,17.0,18.0,19.0,20.0,21.0,22.0,23.0,24.0,25.0,26.0,27.0,28.0,29.0,30.0,31.0,32.0,33.0,34.0,35.0,36.0,37.0,38.0,39.0,40.0,41.0,42.0,43.0,44.0,45.0,46.0,47.0,48.0,49.0,51.0],\"legendgroup\":\"\",\"marker\":{\"color\":[0,0,0,0,0,0,0,0,0,0,0,0,0,0,0,0,0,0,0,0,0,0,0,0,0,0,0,0,0,0,0,0,0,0,0,0,0,0,0,0,0,0,0,0,0,0,0,0,0,0,2],\"coloraxis\":\"coloraxis\",\"symbol\":\"circle\"},\"mode\":\"markers\",\"name\":\"\",\"orientation\":\"v\",\"showlegend\":false,\"x\":[1438.7368806915797,735.9206975860319,553.4903520398166,781.1546532428349,672.0661187007761,2698.4717870361947,88.63654117674335,884.1972291431233,319.87638399212415,1099.9146704282775,2168.848838389746,531.3541764364124,2626.0279686475596,591.1084892589397,2306.4239112528885,1155.7600668417272,976.1071362064099,185.5571985928347,2322.797372403328,617.9789105144743,2299.6790062375126,82.3050059704058,2473.6822162444923,590.3042145915587,2630.8170743235787,2937.962522630574,113.98440567725532,1316.5444532751512,1560.1177622326104,144.17239602915933,1365.736412031275,1129.148404450064,244.68538813552732,2726.3855043200583,2590.2857472290525,787.9169696259986,1528.3100819551203,756.1898880818349,2500.445446309666,1309.1009422519498,81.5613785792092,1139.1923302283813,1624.2807634879464,2712.8415988666648,247.08727943004772,630.8362117396839,1359.906987477237,2363.590833585488,2644.88311130856,727.557258825252,0.0],\"xaxis\":\"x\",\"y\":[0.0,1.0,2.0,3.0,4.0,5.0,6.0,7.0,8.0,9.0,10.0,11.0,12.0,13.0,14.0,15.0,16.0,17.0,18.0,19.0,20.0,21.0,22.0,23.0,24.0,25.0,26.0,27.0,28.0,29.0,30.0,31.0,32.0,33.0,34.0,35.0,36.0,37.0,38.0,39.0,40.0,41.0,42.0,43.0,44.0,45.0,46.0,47.0,48.0,49.0,51.0],\"yaxis\":\"y\",\"type\":\"scatter\"}],\"name\":\"0\"},{\"data\":[{\"hovertemplate\":\"t=1\\u003cbr\\u003eDistance from Me (m)=%{x}\\u003cbr\\u003eRunner (n_i)=%{y}\\u003cbr\\u003eovertaken=%{marker.color}\\u003cextra\\u003e\\u003c\\u002fextra\\u003e\",\"ids\":[0.0,1.0,2.0,3.0,4.0,5.0,6.0,7.0,8.0,9.0,10.0,11.0,12.0,13.0,14.0,15.0,16.0,17.0,18.0,19.0,20.0,21.0,22.0,23.0,24.0,25.0,26.0,27.0,28.0,29.0,30.0,31.0,32.0,33.0,34.0,35.0,36.0,37.0,38.0,39.0,40.0,41.0,42.0,43.0,44.0,45.0,46.0,47.0,48.0,49.0,51.0],\"legendgroup\":\"\",\"marker\":{\"color\":[0,0,0,0,0,0,0,0,0,0,0,0,0,0,0,0,0,0,0,0,0,0,0,0,0,0,0,0,0,0,0,0,0,0,0,0,0,0,0,0,0,0,0,0,0,0,0,0,0,0,2],\"coloraxis\":\"coloraxis\",\"symbol\":\"circle\"},\"mode\":\"markers\",\"name\":\"\",\"orientation\":\"v\",\"showlegend\":false,\"x\":[1575.137015209466,919.4180929199536,782.2171720277748,1010.9744962004683,857.966507348259,2876.6277119723427,362.3763056283341,1139.2522024405328,537.1019523733885,1346.229419028009,2440.630875979482,753.9657995223683,2850.145916665223,802.3818675563175,2547.8850199283333,1271.8320892211714,1204.563691719376,346.085841984304,2568.9223025201118,786.6447194811399,2527.21967288577,345.7176719115206,2668.9468588697973,716.2027012316279,2804.6564436683466,3196.4740045679955,351.28767722770283,1516.953208740873,1802.9832377460216,377.8035599336764,1575.5382660826754,1335.1274415022951,484.22947541073745,2976.1040510258067,2800.186173101767,938.955106817569,1775.7692215730272,1006.0878223622053,2783.0024291144096,1506.1752698066557,339.98761185166353,1400.218987067684,1829.6180577085534,2910.728628995932,479.13185430987016,867.7335958351343,1539.3252673793495,2557.8857806708174,2875.5294069671877,948.6299570738372,272.72727272727275],\"xaxis\":\"x\",\"y\":[0.0,1.0,2.0,3.0,4.0,5.0,6.0,7.0,8.0,9.0,10.0,11.0,12.0,13.0,14.0,15.0,16.0,17.0,18.0,19.0,20.0,21.0,22.0,23.0,24.0,25.0,26.0,27.0,28.0,29.0,30.0,31.0,32.0,33.0,34.0,35.0,36.0,37.0,38.0,39.0,40.0,41.0,42.0,43.0,44.0,45.0,46.0,47.0,48.0,49.0,51.0],\"yaxis\":\"y\",\"type\":\"scatter\"}],\"name\":\"1\"},{\"data\":[{\"hovertemplate\":\"t=2\\u003cbr\\u003eDistance from Me (m)=%{x}\\u003cbr\\u003eRunner (n_i)=%{y}\\u003cbr\\u003eovertaken=%{marker.color}\\u003cextra\\u003e\\u003c\\u002fextra\\u003e\",\"ids\":[0.0,1.0,2.0,3.0,4.0,5.0,6.0,7.0,8.0,9.0,10.0,11.0,12.0,13.0,14.0,15.0,16.0,17.0,18.0,19.0,20.0,21.0,22.0,23.0,24.0,25.0,26.0,27.0,28.0,29.0,30.0,31.0,32.0,33.0,34.0,35.0,36.0,37.0,38.0,39.0,40.0,41.0,42.0,43.0,44.0,45.0,46.0,47.0,48.0,49.0,51.0],\"legendgroup\":\"\",\"marker\":{\"color\":[0,0,0,0,0,0,0,0,0,0,0,0,0,0,0,0,0,1,0,0,0,0,0,0,0,0,0,0,0,0,0,0,0,0,0,0,0,0,0,0,0,0,0,0,0,0,0,0,0,0,2],\"coloraxis\":\"coloraxis\",\"symbol\":\"circle\"},\"mode\":\"markers\",\"name\":\"\",\"orientation\":\"v\",\"showlegend\":false,\"x\":[1711.5371497273522,1102.915488253875,1010.9439920157331,1240.7943391581016,1043.8668959957422,3054.783636908491,636.1160700799248,1394.3071757379423,754.3275207546528,1592.5441676277405,2712.4129135692174,976.5774226083242,3074.2638646828864,1013.6552458536953,2789.3461286037777,1387.9041116006156,1433.0202472323422,506.61448537577326,2815.0472326368954,955.3105284478055,2754.760339534027,609.1303378526354,2864.2115014951023,842.1011878716971,2978.4958130131145,3454.985486505417,588.5909487781504,1717.3619642065944,2045.8487132594325,611.4347238381935,1785.3401201340755,1541.1064785545263,723.7735626859476,3225.8225977315556,3010.0865989744816,1089.9932440091393,2023.2283611909343,1255.9857566425758,3065.559411919153,1703.2495973613613,598.4138451241179,1661.245643906987,2034.9553519291603,3108.6156591251993,711.1764291896927,1104.6309799305848,1718.7435472814623,2752.1807277561475,3106.175702625815,1169.7026553224223,545.4545454545455],\"xaxis\":\"x\",\"y\":[0.0,1.0,2.0,3.0,4.0,5.0,6.0,7.0,8.0,9.0,10.0,11.0,12.0,13.0,14.0,15.0,16.0,17.0,18.0,19.0,20.0,21.0,22.0,23.0,24.0,25.0,26.0,27.0,28.0,29.0,30.0,31.0,32.0,33.0,34.0,35.0,36.0,37.0,38.0,39.0,40.0,41.0,42.0,43.0,44.0,45.0,46.0,47.0,48.0,49.0,51.0],\"yaxis\":\"y\",\"type\":\"scatter\"}],\"name\":\"2\"},{\"data\":[{\"hovertemplate\":\"t=3\\u003cbr\\u003eDistance from Me (m)=%{x}\\u003cbr\\u003eRunner (n_i)=%{y}\\u003cbr\\u003eovertaken=%{marker.color}\\u003cextra\\u003e\\u003c\\u002fextra\\u003e\",\"ids\":[0.0,1.0,2.0,3.0,4.0,5.0,6.0,7.0,8.0,9.0,10.0,11.0,12.0,13.0,14.0,15.0,16.0,17.0,18.0,19.0,20.0,21.0,22.0,23.0,24.0,25.0,26.0,27.0,28.0,29.0,30.0,31.0,32.0,33.0,34.0,35.0,36.0,37.0,38.0,39.0,40.0,41.0,42.0,43.0,44.0,45.0,46.0,47.0,48.0,49.0,51.0],\"legendgroup\":\"\",\"marker\":{\"color\":[0,0,0,0,0,0,0,0,0,0,0,0,0,0,0,0,0,1,0,0,0,0,0,0,0,0,0,0,0,0,0,0,0,0,0,0,0,0,0,0,0,0,0,0,0,0,0,0,0,0,2],\"coloraxis\":\"coloraxis\",\"symbol\":\"circle\"},\"mode\":\"markers\",\"name\":\"\",\"orientation\":\"v\",\"showlegend\":false,\"x\":[1847.9372842452387,1286.4128835877968,1239.6708120036913,1470.6141821157348,1229.7672846432251,3232.9395618446392,909.8558345315156,1649.3621490353519,971.553089135917,1838.858916227472,2984.1949511589532,1199.1890456942801,3298.3818127005493,1224.928624151073,3030.807237279222,1503.9761339800598,1661.4768027453083,667.1431287672425,3061.172162753679,1123.9763374144711,2982.3010061822843,872.5430037937501,3059.4761441204078,967.9996745117664,3152.3351823578823,3713.4969684428393,825.8942203285978,1917.7707196723159,2288.7141887728435,845.0658877427105,1995.1419741854759,1747.0855156067573,963.3176499611578,3475.541144437304,3219.987024847196,1241.0313812007096,2270.6875008088414,1505.8836909229462,3348.1163947238965,1900.3239249160672,856.8400783965722,1922.27230074629,2240.2926461497673,3306.5026892544665,943.2210040695152,1341.5283640260354,1898.1618271835748,2946.475674841477,3336.821998284443,1390.7753535710074,818.1818181818181],\"xaxis\":\"x\",\"y\":[0.0,1.0,2.0,3.0,4.0,5.0,6.0,7.0,8.0,9.0,10.0,11.0,12.0,13.0,14.0,15.0,16.0,17.0,18.0,19.0,20.0,21.0,22.0,23.0,24.0,25.0,26.0,27.0,28.0,29.0,30.0,31.0,32.0,33.0,34.0,35.0,36.0,37.0,38.0,39.0,40.0,41.0,42.0,43.0,44.0,45.0,46.0,47.0,48.0,49.0,51.0],\"yaxis\":\"y\",\"type\":\"scatter\"}],\"name\":\"3\"},{\"data\":[{\"hovertemplate\":\"t=4\\u003cbr\\u003eDistance from Me (m)=%{x}\\u003cbr\\u003eRunner (n_i)=%{y}\\u003cbr\\u003eovertaken=%{marker.color}\\u003cextra\\u003e\\u003c\\u002fextra\\u003e\",\"ids\":[0.0,1.0,2.0,3.0,4.0,5.0,6.0,7.0,8.0,9.0,10.0,11.0,12.0,13.0,14.0,15.0,16.0,17.0,18.0,19.0,20.0,21.0,22.0,23.0,24.0,25.0,26.0,27.0,28.0,29.0,30.0,31.0,32.0,33.0,34.0,35.0,36.0,37.0,38.0,39.0,40.0,41.0,42.0,43.0,44.0,45.0,46.0,47.0,48.0,49.0,51.0],\"legendgroup\":\"\",\"marker\":{\"color\":[0,0,0,0,0,0,0,0,0,0,0,0,0,0,0,0,0,1,0,0,0,0,0,0,0,0,1,0,0,1,0,0,0,0,0,0,0,0,0,0,0,0,0,0,0,0,0,0,0,0,2],\"coloraxis\":\"coloraxis\",\"symbol\":\"circle\"},\"mode\":\"markers\",\"name\":\"\",\"orientation\":\"v\",\"showlegend\":false,\"x\":[1984.337418763125,1469.9102789217186,1468.3976319916496,1700.4340250733683,1415.667673290708,3411.0954867807877,1183.5955989831064,1904.4171223327614,1188.7786575171813,2085.1736648272035,3255.976988748689,1421.8006687802358,3522.4997607182127,1436.202002448451,3272.268345954667,1620.048156359504,1889.9333582582744,827.6717721587117,3307.2970928704626,1292.6421463811366,3209.8416728305415,1135.955669734865,3254.7407867457127,1093.8981611518357,3326.17455170265,3972.008450380261,1063.1974918790454,2118.1794751380376,2531.5796642862547,1078.6970516472275,2204.943828236876,1953.0645526589888,1202.8617372363678,3725.259691143053,3429.887450719911,1392.0695183922799,2518.1466404267485,1755.7816252033167,3630.6733775286402,2097.398252470773,1115.2663116690267,2183.2989575855927,2445.6299403703742,3504.389719383734,1175.2655789493376,1578.4257481214859,2077.5801070856874,3140.7706219268066,3567.4682939430704,1611.8480518195925,1090.909090909091],\"xaxis\":\"x\",\"y\":[0.0,1.0,2.0,3.0,4.0,5.0,6.0,7.0,8.0,9.0,10.0,11.0,12.0,13.0,14.0,15.0,16.0,17.0,18.0,19.0,20.0,21.0,22.0,23.0,24.0,25.0,26.0,27.0,28.0,29.0,30.0,31.0,32.0,33.0,34.0,35.0,36.0,37.0,38.0,39.0,40.0,41.0,42.0,43.0,44.0,45.0,46.0,47.0,48.0,49.0,51.0],\"yaxis\":\"y\",\"type\":\"scatter\"}],\"name\":\"4\"},{\"data\":[{\"hovertemplate\":\"t=5\\u003cbr\\u003eDistance from Me (m)=%{x}\\u003cbr\\u003eRunner (n_i)=%{y}\\u003cbr\\u003eovertaken=%{marker.color}\\u003cextra\\u003e\\u003c\\u002fextra\\u003e\",\"ids\":[0.0,1.0,2.0,3.0,4.0,5.0,6.0,7.0,8.0,9.0,10.0,11.0,12.0,13.0,14.0,15.0,16.0,17.0,18.0,19.0,20.0,21.0,22.0,23.0,24.0,25.0,26.0,27.0,28.0,29.0,30.0,31.0,32.0,33.0,34.0,35.0,36.0,37.0,38.0,39.0,40.0,41.0,42.0,43.0,44.0,45.0,46.0,47.0,48.0,49.0,51.0],\"legendgroup\":\"\",\"marker\":{\"color\":[0,0,0,0,0,0,0,0,0,0,0,0,0,0,0,0,0,1,0,0,0,0,0,1,0,0,1,0,0,1,0,0,0,0,0,0,0,0,0,0,0,0,0,0,0,0,0,0,0,0,2],\"coloraxis\":\"coloraxis\",\"symbol\":\"circle\"},\"mode\":\"markers\",\"name\":\"\",\"orientation\":\"v\",\"showlegend\":false,\"x\":[2120.7375532810115,1653.4076742556401,1697.1244519796076,1930.2538680310017,1601.568061938191,3589.2514117169358,1457.335363434697,2159.4720956301708,1406.0042258984458,2331.488413426935,3527.7590263384245,1644.412291866192,3746.6177087358756,1647.4753807458285,3513.729454630112,1736.1201787389482,2118.3899137712406,988.2004155501811,3553.4220229872462,1461.3079553478024,3437.3823394787987,1399.3683356759798,3450.005429371018,1219.796647791905,3500.013921047418,4230.519932317682,1300.5007634294932,2318.5882306037593,2774.4451397996654,1312.3282155517445,2414.7456822882764,2159.0435897112197,1442.4058245115782,3974.9782378488017,3639.7878765926253,1543.1076555838504,2765.605780044655,2005.6795594836874,3913.230360333384,2294.472580025479,1373.692544941481,2444.3256144248953,2650.967234590981,3702.276749513001,1407.3101538291603,1815.3231322169363,2256.9983869878,3335.0655690121366,3798.114589601698,1832.9207500681778,1363.6363636363637],\"xaxis\":\"x\",\"y\":[0.0,1.0,2.0,3.0,4.0,5.0,6.0,7.0,8.0,9.0,10.0,11.0,12.0,13.0,14.0,15.0,16.0,17.0,18.0,19.0,20.0,21.0,22.0,23.0,24.0,25.0,26.0,27.0,28.0,29.0,30.0,31.0,32.0,33.0,34.0,35.0,36.0,37.0,38.0,39.0,40.0,41.0,42.0,43.0,44.0,45.0,46.0,47.0,48.0,49.0,51.0],\"yaxis\":\"y\",\"type\":\"scatter\"}],\"name\":\"5\"},{\"data\":[{\"hovertemplate\":\"t=6\\u003cbr\\u003eDistance from Me (m)=%{x}\\u003cbr\\u003eRunner (n_i)=%{y}\\u003cbr\\u003eovertaken=%{marker.color}\\u003cextra\\u003e\\u003c\\u002fextra\\u003e\",\"ids\":[0.0,1.0,2.0,3.0,4.0,5.0,6.0,7.0,8.0,9.0,10.0,11.0,12.0,13.0,14.0,15.0,16.0,17.0,18.0,19.0,20.0,21.0,22.0,23.0,24.0,25.0,26.0,27.0,28.0,29.0,30.0,31.0,32.0,33.0,34.0,35.0,36.0,37.0,38.0,39.0,40.0,41.0,42.0,43.0,44.0,45.0,46.0,47.0,48.0,49.0,51.0],\"legendgroup\":\"\",\"marker\":{\"color\":[0,0,0,0,0,0,0,0,1,0,0,0,0,0,0,0,0,1,0,1,0,0,0,1,0,0,1,0,0,1,0,0,0,0,0,0,0,0,0,0,1,0,0,0,0,0,0,0,0,0,2],\"coloraxis\":\"coloraxis\",\"symbol\":\"circle\"},\"mode\":\"markers\",\"name\":\"\",\"orientation\":\"v\",\"showlegend\":false,\"x\":[2257.137687798898,1836.9050695895617,1925.851271967566,2160.073710988635,1787.468450585674,3767.407336653084,1731.0751278862879,2414.5270689275803,1623.22979427971,2577.8031620266665,3799.541063928161,1867.0239149521476,3970.735656753539,1858.7487590432063,3755.190563305556,1852.1922011183924,2346.8464692842063,1148.7290589416502,3799.54695310403,1629.9737643144679,3664.923006127056,1662.7810016170945,3645.270071996323,1345.695134431974,3673.853290392186,4489.031414255104,1537.8040349799405,2518.996986069481,3017.3106153130766,1545.9593794562616,2624.5475363396768,2365.0226267634507,1681.9499117867883,4224.69678455455,3849.6883024653403,1694.1457927754207,3013.0649196625623,2255.577493764058,4195.787343138127,2491.546907580185,1632.1187782139352,2705.352271264199,2856.304528811588,3900.1637796422683,1639.3547287089827,2052.2205163123867,2436.4166668899124,3529.360516097466,4028.760885260326,2053.9934483167626,1636.3636363636363],\"xaxis\":\"x\",\"y\":[0.0,1.0,2.0,3.0,4.0,5.0,6.0,7.0,8.0,9.0,10.0,11.0,12.0,13.0,14.0,15.0,16.0,17.0,18.0,19.0,20.0,21.0,22.0,23.0,24.0,25.0,26.0,27.0,28.0,29.0,30.0,31.0,32.0,33.0,34.0,35.0,36.0,37.0,38.0,39.0,40.0,41.0,42.0,43.0,44.0,45.0,46.0,47.0,48.0,49.0,51.0],\"yaxis\":\"y\",\"type\":\"scatter\"}],\"name\":\"6\"},{\"data\":[{\"hovertemplate\":\"t=7\\u003cbr\\u003eDistance from Me (m)=%{x}\\u003cbr\\u003eRunner (n_i)=%{y}\\u003cbr\\u003eovertaken=%{marker.color}\\u003cextra\\u003e\\u003c\\u002fextra\\u003e\",\"ids\":[0.0,1.0,2.0,3.0,4.0,5.0,6.0,7.0,8.0,9.0,10.0,11.0,12.0,13.0,14.0,15.0,16.0,17.0,18.0,19.0,20.0,21.0,22.0,23.0,24.0,25.0,26.0,27.0,28.0,29.0,30.0,31.0,32.0,33.0,34.0,35.0,36.0,37.0,38.0,39.0,40.0,41.0,42.0,43.0,44.0,45.0,46.0,47.0,48.0,49.0,51.0],\"legendgroup\":\"\",\"marker\":{\"color\":[0,0,0,0,0,0,0,0,1,0,0,0,0,0,0,0,0,1,0,1,0,0,0,1,0,0,1,0,0,1,0,0,0,0,0,1,0,0,0,0,1,0,0,0,1,0,0,0,0,0,2],\"coloraxis\":\"coloraxis\",\"symbol\":\"circle\"},\"mode\":\"markers\",\"name\":\"\",\"orientation\":\"v\",\"showlegend\":false,\"x\":[2393.537822316784,2020.4024649234834,2154.5780919555245,2389.893553946268,1973.3688392331571,3945.563261589232,2004.8148923378787,2669.58204222499,1840.4553626609743,2824.1179106263985,4071.3231015178962,2089.6355380381037,4194.853604771202,2070.022137340584,3996.651671981001,1968.2642234978366,2575.303024797173,1309.2577023331196,4045.6718832208135,1798.6395732811334,3892.463672775313,1926.1936675582094,3840.534714621628,1471.5936210720433,3847.692659736954,4747.542896192526,1775.107306530388,2719.405741535202,3260.176090826488,1779.5905433607786,2834.349390391077,2571.001663815682,1921.4939990619985,4474.415331260298,4059.5887283380553,1845.183929966991,3260.5240592804694,2505.4754280444286,4478.3443259428705,2688.6212351348904,1890.5450114863895,2966.3789281035015,3061.641823032195,4098.050809771536,1871.3993035888052,2289.117900407837,2615.834946792025,3723.6554631827958,4259.407180918954,2275.066146565348,1909.090909090909],\"xaxis\":\"x\",\"y\":[0.0,1.0,2.0,3.0,4.0,5.0,6.0,7.0,8.0,9.0,10.0,11.0,12.0,13.0,14.0,15.0,16.0,17.0,18.0,19.0,20.0,21.0,22.0,23.0,24.0,25.0,26.0,27.0,28.0,29.0,30.0,31.0,32.0,33.0,34.0,35.0,36.0,37.0,38.0,39.0,40.0,41.0,42.0,43.0,44.0,45.0,46.0,47.0,48.0,49.0,51.0],\"yaxis\":\"y\",\"type\":\"scatter\"}],\"name\":\"7\"},{\"data\":[{\"hovertemplate\":\"t=8\\u003cbr\\u003eDistance from Me (m)=%{x}\\u003cbr\\u003eRunner (n_i)=%{y}\\u003cbr\\u003eovertaken=%{marker.color}\\u003cextra\\u003e\\u003c\\u002fextra\\u003e\",\"ids\":[0.0,1.0,2.0,3.0,4.0,5.0,6.0,7.0,8.0,9.0,10.0,11.0,12.0,13.0,14.0,15.0,16.0,17.0,18.0,19.0,20.0,21.0,22.0,23.0,24.0,25.0,26.0,27.0,28.0,29.0,30.0,31.0,32.0,33.0,34.0,35.0,36.0,37.0,38.0,39.0,40.0,41.0,42.0,43.0,44.0,45.0,46.0,47.0,48.0,49.0,51.0],\"legendgroup\":\"\",\"marker\":{\"color\":[0,0,0,0,1,0,0,0,1,0,0,0,0,0,0,1,0,1,0,1,0,0,0,1,0,0,1,0,0,1,0,0,1,0,0,1,0,0,0,0,1,0,0,0,1,0,0,0,0,0,2],\"coloraxis\":\"coloraxis\",\"symbol\":\"circle\"},\"mode\":\"markers\",\"name\":\"\",\"orientation\":\"v\",\"showlegend\":false,\"x\":[2529.9379568346703,2203.899860257405,2383.3049119434827,2619.7133969039014,2159.26922788064,4123.719186525381,2278.5546567894694,2924.6370155223995,2057.6809310422386,3070.4326592261295,4343.105139107633,2312.2471611240594,4418.971552788866,2281.295515637962,4238.1127806564455,2084.336245877281,2803.7595803101385,1469.786345724589,4291.796813337597,1967.3053822477991,4120.004339423571,2189.6063334993246,4035.799357246933,1597.4921077121126,4021.5320290817217,5006.0543781299475,2012.4105780808356,2919.814497000924,3503.041566339899,2013.2217072652957,3044.151244442477,2776.9807008679136,2161.0380863372084,4724.133877966047,4269.48915421077,1996.2220671585615,3507.983198898376,2755.373362324799,4760.901308747614,2885.695562689596,2148.971244758844,3227.405584942804,3266.979117252802,4295.937839900803,2103.4438784686276,2526.0152845032876,2795.253226694138,3917.950410268126,4490.053476577581,2496.1388448139332,2181.818181818182],\"xaxis\":\"x\",\"y\":[0.0,1.0,2.0,3.0,4.0,5.0,6.0,7.0,8.0,9.0,10.0,11.0,12.0,13.0,14.0,15.0,16.0,17.0,18.0,19.0,20.0,21.0,22.0,23.0,24.0,25.0,26.0,27.0,28.0,29.0,30.0,31.0,32.0,33.0,34.0,35.0,36.0,37.0,38.0,39.0,40.0,41.0,42.0,43.0,44.0,45.0,46.0,47.0,48.0,49.0,51.0],\"yaxis\":\"y\",\"type\":\"scatter\"}],\"name\":\"8\"},{\"data\":[{\"hovertemplate\":\"t=9\\u003cbr\\u003eDistance from Me (m)=%{x}\\u003cbr\\u003eRunner (n_i)=%{y}\\u003cbr\\u003eovertaken=%{marker.color}\\u003cextra\\u003e\\u003c\\u002fextra\\u003e\",\"ids\":[0.0,1.0,2.0,3.0,4.0,5.0,6.0,7.0,8.0,9.0,10.0,11.0,12.0,13.0,14.0,15.0,16.0,17.0,18.0,19.0,20.0,21.0,22.0,23.0,24.0,25.0,26.0,27.0,28.0,29.0,30.0,31.0,32.0,33.0,34.0,35.0,36.0,37.0,38.0,39.0,40.0,41.0,42.0,43.0,44.0,45.0,46.0,47.0,48.0,49.0,51.0],\"legendgroup\":\"\",\"marker\":{\"color\":[0,1,0,0,1,0,0,0,1,0,0,0,0,0,0,1,0,1,0,1,0,1,0,1,0,0,1,0,0,1,0,0,1,0,0,1,0,0,0,0,1,0,0,0,1,0,0,0,0,0,2],\"coloraxis\":\"coloraxis\",\"symbol\":\"circle\"},\"mode\":\"markers\",\"name\":\"\",\"orientation\":\"v\",\"showlegend\":false,\"x\":[2666.3380913525566,2387.3972555913265,2612.0317319314404,2849.5332398615346,2345.169616528123,4301.875111461529,2552.29442124106,3179.691988819809,2274.906499423503,3316.7474078258615,4614.887176697368,2534.858784210015,4643.089500806529,2492.5688939353395,4479.57388933189,2200.408268256725,3032.2161358231047,1630.3149891160583,4537.921743454381,2135.971191214465,4347.545006071828,2453.0189994404395,4231.063999872238,1723.3905943521818,4195.37139842649,5264.56586006737,2249.713849631283,3120.223252466645,3745.90704185331,2246.8528711698127,3253.9530984938774,2982.9597379201446,2400.582173612419,4973.852424671795,4479.389580083484,2147.260204350132,3755.4423385162836,3005.2712966051695,5043.458291552358,3082.769890244302,2407.3974780312983,3488.432241782107,3472.316411473409,4493.82487003007,2335.48845334845,2762.9126685987385,2974.6715065962508,4112.245357353455,4720.699772236208,2717.211543062518,2454.5454545454545],\"xaxis\":\"x\",\"y\":[0.0,1.0,2.0,3.0,4.0,5.0,6.0,7.0,8.0,9.0,10.0,11.0,12.0,13.0,14.0,15.0,16.0,17.0,18.0,19.0,20.0,21.0,22.0,23.0,24.0,25.0,26.0,27.0,28.0,29.0,30.0,31.0,32.0,33.0,34.0,35.0,36.0,37.0,38.0,39.0,40.0,41.0,42.0,43.0,44.0,45.0,46.0,47.0,48.0,49.0,51.0],\"yaxis\":\"y\",\"type\":\"scatter\"}],\"name\":\"9\"},{\"data\":[{\"hovertemplate\":\"t=10\\u003cbr\\u003eDistance from Me (m)=%{x}\\u003cbr\\u003eRunner (n_i)=%{y}\\u003cbr\\u003eovertaken=%{marker.color}\\u003cextra\\u003e\\u003c\\u002fextra\\u003e\",\"ids\":[0.0,1.0,2.0,3.0,4.0,5.0,6.0,7.0,8.0,9.0,10.0,11.0,12.0,13.0,14.0,15.0,16.0,17.0,18.0,19.0,20.0,21.0,22.0,23.0,24.0,25.0,26.0,27.0,28.0,29.0,30.0,31.0,32.0,33.0,34.0,35.0,36.0,37.0,38.0,39.0,40.0,41.0,42.0,43.0,44.0,45.0,46.0,47.0,48.0,49.0,51.0],\"legendgroup\":\"\",\"marker\":{\"color\":[0,1,0,0,1,0,0,0,1,0,0,0,0,1,0,1,0,1,0,1,0,1,0,1,0,0,1,0,0,1,0,0,1,0,0,1,0,0,0,0,1,0,0,0,1,0,0,0,0,0,2],\"coloraxis\":\"coloraxis\",\"symbol\":\"circle\"},\"mode\":\"markers\",\"name\":\"\",\"orientation\":\"v\",\"showlegend\":false,\"x\":[2802.738225870443,2570.8946509252482,2840.7585519193985,3079.353082819169,2531.0700051756057,4480.031036397677,2826.0341856926507,3434.7469621172186,2492.1320678047678,3563.062156425593,4886.669214287103,2757.470407295971,4867.207448824192,2703.8422722327173,4721.034998007335,2316.4802906361692,3260.672691336071,1790.8436325075277,4784.046673571163,2304.6370001811306,4575.085672720084,2716.431665381554,4426.328642497543,1849.289080992251,4369.210767771257,5523.077342004792,2487.017121181731,3320.632007932367,3988.772517366721,2480.4840350743298,3463.754952545278,3188.9387749723755,2640.126260887629,5223.570971377545,4689.290005956198,2298.298341541702,4002.9014781341903,3255.16923088554,5326.015274357102,3279.844217799008,2665.8237113037526,3749.45889862141,3677.653705694016,4691.711900159336,2567.5330282282725,2999.810052694189,3154.0897864983635,4306.540304438786,4951.346067894836,2938.284241311104,2727.2727272727275],\"xaxis\":\"x\",\"y\":[0.0,1.0,2.0,3.0,4.0,5.0,6.0,7.0,8.0,9.0,10.0,11.0,12.0,13.0,14.0,15.0,16.0,17.0,18.0,19.0,20.0,21.0,22.0,23.0,24.0,25.0,26.0,27.0,28.0,29.0,30.0,31.0,32.0,33.0,34.0,35.0,36.0,37.0,38.0,39.0,40.0,41.0,42.0,43.0,44.0,45.0,46.0,47.0,48.0,49.0,51.0],\"yaxis\":\"y\",\"type\":\"scatter\"}],\"name\":\"10\"},{\"data\":[{\"hovertemplate\":\"t=11\\u003cbr\\u003eDistance from Me (m)=%{x}\\u003cbr\\u003eRunner (n_i)=%{y}\\u003cbr\\u003eovertaken=%{marker.color}\\u003cextra\\u003e\\u003c\\u002fextra\\u003e\",\"ids\":[0.0,1.0,2.0,3.0,4.0,5.0,6.0,7.0,8.0,9.0,10.0,11.0,12.0,13.0,14.0,15.0,16.0,17.0,18.0,19.0,20.0,21.0,22.0,23.0,24.0,25.0,26.0,27.0,28.0,29.0,30.0,31.0,32.0,33.0,34.0,35.0,36.0,37.0,38.0,39.0,40.0,41.0,42.0,43.0,44.0,45.0,46.0,47.0,48.0,49.0,51.0],\"legendgroup\":\"\",\"marker\":{\"color\":[1,1,0,0,1,0,0,0,1,0,0,1,0,1,0,1,0,1,0,1,0,1,0,1,0,0,1,0,0,1,0,0,1,0,0,1,0,0,0,0,1,0,0,0,1,0,0,0,0,0,2],\"coloraxis\":\"coloraxis\",\"symbol\":\"circle\"},\"mode\":\"markers\",\"name\":\"\",\"orientation\":\"v\",\"showlegend\":false,\"x\":[2939.1383603883296,2754.39204625917,3069.485371907357,3309.172925776802,2716.970393823089,4658.186961333825,3099.7739501442416,3689.801935414628,2709.3576361860314,3809.3769050253245,5158.451251876839,2980.0820303819273,5091.325396841856,2915.115650530095,4962.49610668278,2432.5523130156134,3489.129246849037,1951.3722758989968,5030.171603687948,2473.302809147796,4802.626339368342,2979.844331322669,4621.593285122848,1975.1875676323202,4543.050137116025,5781.588823942213,2724.3203927321783,3521.0407633980885,4231.6379928801325,2714.115198978847,3673.556806596678,3394.917812024607,2879.670348162839,5473.289518083293,4899.1904318289135,2449.3364787332725,4250.360617752097,3505.0671651659104,5608.572257161844,3476.918545353714,2924.249944576207,4010.485555460713,3882.990999914623,4889.598930288605,2799.577603108095,3236.7074367896394,3333.508066400476,4500.835251524115,5181.992363553464,3159.3569395596887,3000.0],\"xaxis\":\"x\",\"y\":[0.0,1.0,2.0,3.0,4.0,5.0,6.0,7.0,8.0,9.0,10.0,11.0,12.0,13.0,14.0,15.0,16.0,17.0,18.0,19.0,20.0,21.0,22.0,23.0,24.0,25.0,26.0,27.0,28.0,29.0,30.0,31.0,32.0,33.0,34.0,35.0,36.0,37.0,38.0,39.0,40.0,41.0,42.0,43.0,44.0,45.0,46.0,47.0,48.0,49.0,51.0],\"yaxis\":\"y\",\"type\":\"scatter\"}],\"name\":\"11\"}]);\n",
              "                        }).then(function(){\n",
              "                            \n",
              "var gd = document.getElementById('4ee3922a-eb5c-4a8e-a55f-de97e8e64722');\n",
              "var x = new MutationObserver(function (mutations, observer) {{\n",
              "        var display = window.getComputedStyle(gd).display;\n",
              "        if (!display || display === 'none') {{\n",
              "            console.log([gd, 'removed!']);\n",
              "            Plotly.purge(gd);\n",
              "            observer.disconnect();\n",
              "        }}\n",
              "}});\n",
              "\n",
              "// Listen for the removal of the full notebook cells\n",
              "var notebookContainer = gd.closest('#notebook-container');\n",
              "if (notebookContainer) {{\n",
              "    x.observe(notebookContainer, {childList: true});\n",
              "}}\n",
              "\n",
              "// Listen for the clearing of the current output cell\n",
              "var outputEl = gd.closest('.output');\n",
              "if (outputEl) {{\n",
              "    x.observe(outputEl, {childList: true});\n",
              "}}\n",
              "\n",
              "                        })                };                            </script>        </div>\n",
              "</body>\n",
              "</html>"
            ]
          },
          "metadata": {}
        }
      ]
    }
  ]
}